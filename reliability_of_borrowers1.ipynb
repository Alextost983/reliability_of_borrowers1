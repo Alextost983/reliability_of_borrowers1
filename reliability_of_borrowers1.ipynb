{
 "cells": [
  {
   "attachments": {},
   "cell_type": "markdown",
   "id": "c81daeeb",
   "metadata": {
    "deletable": false,
    "editable": false,
    "id": "c81daeeb"
   },
   "source": [
    "# Исследование надежности заемщиков"
   ]
  },
  {
   "attachments": {},
   "cell_type": "markdown",
   "id": "-G3EJWzf62s6",
   "metadata": {
    "deletable": false,
    "editable": false,
    "id": "-G3EJWzf62s6"
   },
   "source": [
    "Это первая часть проекта, она будет проверена автоматически. Вторую часть проверит ревьюер. "
   ]
  },
  {
   "attachments": {},
   "cell_type": "markdown",
   "id": "744d7639",
   "metadata": {
    "deletable": false,
    "editable": false,
    "id": "744d7639"
   },
   "source": [
    "## Откроем таблицу и изучите общую информацию о данных"
   ]
  },
  {
   "attachments": {},
   "cell_type": "markdown",
   "id": "e7a14c31",
   "metadata": {
    "deletable": false,
    "editable": false,
    "id": "e7a14c31",
    "tags": [
     "start_task"
    ]
   },
   "source": [
    "**Задание 1. Импортируем библиотеку pandas. Считаем данные из csv-файла в датафрейм и сохраните в переменную `data`. Путь к файлу:**\n",
    "\n",
    "`/datasets/data.csv`"
   ]
  },
  {
   "cell_type": "code",
   "execution_count": 83,
   "id": "7bcf75c9",
   "metadata": {
    "id": "7bcf75c9"
   },
   "outputs": [],
   "source": [
    "import pandas as pd# импортируйте библиотеку pandas"
   ]
  },
  {
   "cell_type": "code",
   "execution_count": 84,
   "id": "4d240ee2",
   "metadata": {
    "id": "4d240ee2"
   },
   "outputs": [],
   "source": [
    "\n",
    "data = pd.read_csv('/datasets/data.csv')# прочитайте csv-файл"
   ]
  },
  {
   "attachments": {},
   "cell_type": "markdown",
   "id": "b8038fe3",
   "metadata": {
    "deletable": false,
    "editable": false,
    "id": "b8038fe3",
    "tags": [
     "start_task"
    ]
   },
   "source": [
    "**Задание 2. Выведем первые 20 строчек датафрейма `data` на экран.**"
   ]
  },
  {
   "cell_type": "code",
   "execution_count": 85,
   "id": "2a7cab99",
   "metadata": {
    "id": "2a7cab99"
   },
   "outputs": [
    {
     "name": "stdout",
     "output_type": "stream",
     "text": [
      "    children  days_employed  dob_years            education  education_id  \\\n",
      "0          1   -8437.673028         42               высшее             0   \n",
      "1          1   -4024.803754         36              среднее             1   \n",
      "2          0   -5623.422610         33              Среднее             1   \n",
      "3          3   -4124.747207         32              среднее             1   \n",
      "4          0  340266.072047         53              среднее             1   \n",
      "5          0    -926.185831         27               высшее             0   \n",
      "6          0   -2879.202052         43               высшее             0   \n",
      "7          0    -152.779569         50              СРЕДНЕЕ             1   \n",
      "8          2   -6929.865299         35               ВЫСШЕЕ             0   \n",
      "9          0   -2188.756445         41              среднее             1   \n",
      "10         2   -4171.483647         36               высшее             0   \n",
      "11         0    -792.701887         40              среднее             1   \n",
      "12         0            NaN         65              среднее             1   \n",
      "13         0   -1846.641941         54  неоконченное высшее             2   \n",
      "14         0   -1844.956182         56               высшее             0   \n",
      "15         1    -972.364419         26              среднее             1   \n",
      "16         0   -1719.934226         35              среднее             1   \n",
      "17         0   -2369.999720         33               высшее             0   \n",
      "18         0  400281.136913         53              среднее             1   \n",
      "19         0  -10038.818549         48              СРЕДНЕЕ             1   \n",
      "\n",
      "       family_status  family_status_id gender income_type  debt  \\\n",
      "0    женат / замужем                 0      F   сотрудник     0   \n",
      "1    женат / замужем                 0      F   сотрудник     0   \n",
      "2    женат / замужем                 0      M   сотрудник     0   \n",
      "3    женат / замужем                 0      M   сотрудник     0   \n",
      "4   гражданский брак                 1      F   пенсионер     0   \n",
      "5   гражданский брак                 1      M   компаньон     0   \n",
      "6    женат / замужем                 0      F   компаньон     0   \n",
      "7    женат / замужем                 0      M   сотрудник     0   \n",
      "8   гражданский брак                 1      F   сотрудник     0   \n",
      "9    женат / замужем                 0      M   сотрудник     0   \n",
      "10   женат / замужем                 0      M   компаньон     0   \n",
      "11   женат / замужем                 0      F   сотрудник     0   \n",
      "12  гражданский брак                 1      M   пенсионер     0   \n",
      "13   женат / замужем                 0      F   сотрудник     0   \n",
      "14  гражданский брак                 1      F   компаньон     1   \n",
      "15   женат / замужем                 0      F   сотрудник     0   \n",
      "16   женат / замужем                 0      F   сотрудник     0   \n",
      "17  гражданский брак                 1      M   сотрудник     0   \n",
      "18    вдовец / вдова                 2      F   пенсионер     0   \n",
      "19         в разводе                 3      F   сотрудник     0   \n",
      "\n",
      "     total_income                                 purpose  \n",
      "0   253875.639453                           покупка жилья  \n",
      "1   112080.014102                 приобретение автомобиля  \n",
      "2   145885.952297                           покупка жилья  \n",
      "3   267628.550329              дополнительное образование  \n",
      "4   158616.077870                         сыграть свадьбу  \n",
      "5   255763.565419                           покупка жилья  \n",
      "6   240525.971920                       операции с жильем  \n",
      "7   135823.934197                             образование  \n",
      "8    95856.832424                   на проведение свадьбы  \n",
      "9   144425.938277                 покупка жилья для семьи  \n",
      "10  113943.491460                    покупка недвижимости  \n",
      "11   77069.234271       покупка коммерческой недвижимости  \n",
      "12            NaN                         сыграть свадьбу  \n",
      "13  130458.228857                 приобретение автомобиля  \n",
      "14  165127.911772              покупка жилой недвижимости  \n",
      "15  116820.904450  строительство собственной недвижимости  \n",
      "16  289202.704229                            недвижимость  \n",
      "17   90410.586745              строительство недвижимости  \n",
      "18   56823.777243      на покупку подержанного автомобиля  \n",
      "19  242831.107982            на покупку своего автомобиля  \n"
     ]
    }
   ],
   "source": [
    "print(data.head(20))# ваш код здесь"
   ]
  },
  {
   "attachments": {},
   "cell_type": "markdown",
   "id": "1c12e233",
   "metadata": {
    "deletable": false,
    "editable": false,
    "id": "1c12e233",
    "tags": [
     "start_task"
    ]
   },
   "source": [
    "**Задание 3. Выведем основную информацию о датафрейме с помощью метода `info()`.**"
   ]
  },
  {
   "cell_type": "code",
   "execution_count": 86,
   "id": "2b757bca",
   "metadata": {
    "id": "2b757bca"
   },
   "outputs": [
    {
     "name": "stdout",
     "output_type": "stream",
     "text": [
      "<class 'pandas.core.frame.DataFrame'>\n",
      "RangeIndex: 21525 entries, 0 to 21524\n",
      "Data columns (total 12 columns):\n",
      " #   Column            Non-Null Count  Dtype  \n",
      "---  ------            --------------  -----  \n",
      " 0   children          21525 non-null  int64  \n",
      " 1   days_employed     19351 non-null  float64\n",
      " 2   dob_years         21525 non-null  int64  \n",
      " 3   education         21525 non-null  object \n",
      " 4   education_id      21525 non-null  int64  \n",
      " 5   family_status     21525 non-null  object \n",
      " 6   family_status_id  21525 non-null  int64  \n",
      " 7   gender            21525 non-null  object \n",
      " 8   income_type       21525 non-null  object \n",
      " 9   debt              21525 non-null  int64  \n",
      " 10  total_income      19351 non-null  float64\n",
      " 11  purpose           21525 non-null  object \n",
      "dtypes: float64(2), int64(5), object(5)\n",
      "memory usage: 2.0+ MB\n"
     ]
    }
   ],
   "source": [
    "\n",
    "\n",
    "\n",
    "\n",
    "\n",
    "\n",
    "data.info()# ваш код здесь"
   ]
  },
  {
   "attachments": {},
   "cell_type": "markdown",
   "id": "333ec665",
   "metadata": {
    "deletable": false,
    "editable": false,
    "id": "333ec665"
   },
   "source": [
    "## Предобработка данных"
   ]
  },
  {
   "attachments": {},
   "cell_type": "markdown",
   "id": "02d92d53",
   "metadata": {
    "deletable": false,
    "editable": false,
    "id": "02d92d53"
   },
   "source": [
    "### Удаление пропусков"
   ]
  },
  {
   "attachments": {},
   "cell_type": "markdown",
   "id": "cd84967c",
   "metadata": {
    "deletable": false,
    "editable": false,
    "id": "cd84967c",
    "tags": [
     "start_task"
    ]
   },
   "source": [
    "**Задание 4. Выведем количество пропущенных значений для каждого столбца. Применим комбинацию двух методов.**"
   ]
  },
  {
   "cell_type": "code",
   "execution_count": 87,
   "id": "7f9b2309",
   "metadata": {
    "id": "7f9b2309"
   },
   "outputs": [
    {
     "name": "stdout",
     "output_type": "stream",
     "text": [
      "children               0\n",
      "days_employed       2174\n",
      "dob_years              0\n",
      "education              0\n",
      "education_id           0\n",
      "family_status          0\n",
      "family_status_id       0\n",
      "gender                 0\n",
      "income_type            0\n",
      "debt                   0\n",
      "total_income        2174\n",
      "purpose                0\n",
      "dtype: int64\n"
     ]
    }
   ],
   "source": [
    "\n",
    "print(data.isna().sum()) # ваш код здесь"
   ]
  },
  {
   "attachments": {},
   "cell_type": "markdown",
   "id": "db86e27b",
   "metadata": {
    "deletable": false,
    "editable": false,
    "id": "db86e27b",
    "tags": [
     "start_task"
    ]
   },
   "source": [
    "**Задание 5. В двух столбцах есть пропущенные значения. Один из них — `days_employed`. Пропуски в этом столбце обработаем на следующем этапе. Другой столбец с пропущенными значениями — `total_income` — хранит данные о доходах. На сумму дохода сильнее всего влияет тип занятости, поэтому заполнить пропуски в этом столбце нужно медианным значением по каждому типу из столбца `income_type`. Например, у человека с типом занятости `сотрудник` пропуск в столбце `total_income` должен быть заполнен медианным доходом среди всех записей с тем же типом.**"
   ]
  },
  {
   "cell_type": "code",
   "execution_count": 88,
   "id": "42006a93",
   "metadata": {
    "id": "42006a93"
   },
   "outputs": [],
   "source": [
    "\n",
    "\n",
    "for income_type in data['income_type'].unique():#перебираем уникальные значения incom_type\n",
    "    \n",
    "    median_income = data[data['income_type'] == income_type]['total_income'].median()#создаем средние значения для групп incom_type по данным из total_incom\n",
    "    \n",
    "    data.loc[data['income_type'] == income_type, 'total_income'] =\\\n",
    "    data['total_income'].fillna(median_income)# По сгруппированным уникальным значениям из колонки\n",
    "                                              # 'income_type' выделяем столбец total_incom  и имеющиеся \n",
    "                                              # в нем пробелы зпаолняем медианным значением соответствующих категорий"
   ]
  },
  {
   "attachments": {},
   "cell_type": "markdown",
   "id": "89da5ece",
   "metadata": {
    "deletable": false,
    "editable": false,
    "id": "89da5ece"
   },
   "source": [
    "### Обработка аномальных значений"
   ]
  },
  {
   "attachments": {},
   "cell_type": "markdown",
   "id": "57964554",
   "metadata": {
    "deletable": false,
    "editable": false,
    "id": "57964554",
    "tags": [
     "start_task"
    ]
   },
   "source": [
    "**Задание 6. В данных могут встречаться артефакты (аномалии) — значения, которые не отражают действительность и появились по какой-то ошибке. Таким артефактом будет отрицательное количество дней трудового стажа в столбце `days_employed`. Для реальных данных это нормально. Обработаем значения в этом столбце: заменим все отрицательные значения положительными с помощью метода `abs()`.**"
   ]
  },
  {
   "cell_type": "code",
   "execution_count": 89,
   "id": "f6f055bf",
   "metadata": {
    "id": "f6f055bf"
   },
   "outputs": [],
   "source": [
    "data['days_employed'] = data['days_employed'].abs()"
   ]
  },
  {
   "attachments": {},
   "cell_type": "markdown",
   "id": "6107dd2f",
   "metadata": {
    "deletable": false,
    "editable": false,
    "id": "6107dd2f",
    "tags": [
     "start_task"
    ]
   },
   "source": [
    "**Задание 7. Для каждого типа занятости выведите медианное значение трудового стажа `days_employed` в днях.**"
   ]
  },
  {
   "cell_type": "code",
   "execution_count": 90,
   "id": "85a5faf6",
   "metadata": {
    "id": "85a5faf6"
   },
   "outputs": [
    {
     "name": "stdout",
     "output_type": "stream",
     "text": [
      "                 days_employed\n",
      "income_type                   \n",
      "безработный      366413.652744\n",
      "в декрете          3296.759962\n",
      "госслужащий        2689.368353\n",
      "компаньон          1547.382223\n",
      "пенсионер        365213.306266\n",
      "предприниматель     520.848083\n",
      "сотрудник          1574.202821\n",
      "студент             578.751554\n"
     ]
    }
   ],
   "source": [
    "\n",
    "ave_age_days_employed = data.groupby(['income_type']).agg({'days_employed':'median'})\n",
    "print(ave_age_days_employed)# ваш код здесь"
   ]
  },
  {
   "attachments": {},
   "cell_type": "markdown",
   "id": "38d1a030",
   "metadata": {
    "deletable": false,
    "editable": false,
    "id": "38d1a030"
   },
   "source": [
    "У двух типов (безработные и пенсионеры) получатся аномально большие значения. Исправить такие значения сложно, поэтому оставьте их как есть. Тем более этот столбец не понадобится для исследования."
   ]
  },
  {
   "attachments": {},
   "cell_type": "markdown",
   "id": "d8a9f147",
   "metadata": {
    "deletable": false,
    "editable": false,
    "id": "d8a9f147",
    "tags": [
     "start_task"
    ]
   },
   "source": [
    "**Задание 8. Выведем перечень уникальных значений столбца `children`.**"
   ]
  },
  {
   "cell_type": "code",
   "execution_count": 91,
   "id": "ef5056eb",
   "metadata": {
    "id": "ef5056eb"
   },
   "outputs": [
    {
     "name": "stdout",
     "output_type": "stream",
     "text": [
      "[ 1  0  3  2 -1  4 20  5]\n"
     ]
    }
   ],
   "source": [
    "print(data['children'].unique())# ваш код здесь"
   ]
  },
  {
   "attachments": {},
   "cell_type": "markdown",
   "id": "40b9ebf2",
   "metadata": {
    "deletable": false,
    "editable": false,
    "id": "40b9ebf2",
    "tags": [
     "start_task"
    ]
   },
   "source": [
    "**Задание 9. В столбце `children` есть два аномальных значения. Удалим строки, в которых встречаются такие аномальные значения из датафрейма `data`.**"
   ]
  },
  {
   "cell_type": "code",
   "execution_count": 92,
   "id": "3ff9801d",
   "metadata": {
    "id": "3ff9801d"
   },
   "outputs": [],
   "source": [
    "data = data.query(\"children not in [-1,20]\")"
   ]
  },
  {
   "attachments": {},
   "cell_type": "markdown",
   "id": "bbc4d0ce",
   "metadata": {
    "deletable": false,
    "editable": false,
    "id": "bbc4d0ce",
    "tags": [
     "start_task"
    ]
   },
   "source": [
    "**Задание 10. Ещё раз выведем перечень уникальных значений столбца `children`, чтобы убедиться, что артефакты удалены.**"
   ]
  },
  {
   "cell_type": "code",
   "execution_count": 93,
   "id": "ad4fa8b7",
   "metadata": {
    "id": "ad4fa8b7"
   },
   "outputs": [
    {
     "name": "stdout",
     "output_type": "stream",
     "text": [
      "[1 0 3 2 4 5]\n"
     ]
    }
   ],
   "source": [
    "print(data['children'].unique())# ваш код здесь"
   ]
  },
  {
   "attachments": {},
   "cell_type": "markdown",
   "id": "75440b63",
   "metadata": {
    "deletable": false,
    "editable": false,
    "id": "75440b63"
   },
   "source": [
    "### Удаление пропусков (продолжение)"
   ]
  },
  {
   "attachments": {},
   "cell_type": "markdown",
   "id": "f4ea573f",
   "metadata": {
    "deletable": false,
    "editable": false,
    "id": "f4ea573f",
    "tags": [
     "start_task"
    ]
   },
   "source": [
    "**Задание 11. Заполним пропуски в столбце `days_employed` медианными значениями по каждому типу занятости `income_type`.**"
   ]
  },
  {
   "cell_type": "code",
   "execution_count": 94,
   "id": "af6b1a7e",
   "metadata": {
    "id": "af6b1a7e"
   },
   "outputs": [],
   "source": [
    "for income_type in data['income_type'].unique():#перебираем уникальные значения incom_type\n",
    "    \n",
    "    median_income = data[data['income_type'] == income_type]['days_employed'].median()#создаем средние значения для групп incom_type по данным из days_employed\n",
    "    \n",
    "    data.loc[data['income_type'] == income_type, 'days_employed'] =\\\n",
    "    data['days_employed'].fillna(median_income)# По сгруппированным уникальным значениям из колонки\n",
    "                                              # 'income_type' выделяем столбец days_employed  и имеющиеся \n",
    "                                              # в нем пробелы зпаолняем медианным значением соответствующих категорийкод здесь"
   ]
  },
  {
   "attachments": {},
   "cell_type": "markdown",
   "id": "2753f40d",
   "metadata": {
    "deletable": false,
    "editable": false,
    "id": "2753f40d",
    "tags": [
     "start_task"
    ]
   },
   "source": [
    "**Задание 12. Убедимся, что все пропуски заполнены. Проверьте себя и ещё раз выведите количество пропущенных значений для каждого столбца с помощью двух методов.**"
   ]
  },
  {
   "cell_type": "code",
   "execution_count": 95,
   "id": "55f78bc2",
   "metadata": {
    "id": "55f78bc2"
   },
   "outputs": [
    {
     "name": "stdout",
     "output_type": "stream",
     "text": [
      "children            0\n",
      "days_employed       0\n",
      "dob_years           0\n",
      "education           0\n",
      "education_id        0\n",
      "family_status       0\n",
      "family_status_id    0\n",
      "gender              0\n",
      "income_type         0\n",
      "debt                0\n",
      "total_income        0\n",
      "purpose             0\n",
      "dtype: int64\n"
     ]
    }
   ],
   "source": [
    "print(data.isna().sum())# ваш код здесь"
   ]
  },
  {
   "attachments": {},
   "cell_type": "markdown",
   "id": "ddc81e43",
   "metadata": {
    "deletable": false,
    "editable": false,
    "id": "ddc81e43"
   },
   "source": [
    "### Изменение типов данных"
   ]
  },
  {
   "attachments": {},
   "cell_type": "markdown",
   "id": "42d19d24",
   "metadata": {
    "deletable": false,
    "editable": false,
    "id": "42d19d24",
    "tags": [
     "start_task"
    ]
   },
   "source": [
    "**Задание 13. Заменим вещественный тип данных в столбце `total_income` на целочисленный с помощью метода `astype()`.**"
   ]
  },
  {
   "cell_type": "code",
   "execution_count": 96,
   "id": "920b65ad",
   "metadata": {
    "id": "920b65ad"
   },
   "outputs": [],
   "source": [
    "data['total_income'] = data['total_income'].astype('int')# ваш код здесь"
   ]
  },
  {
   "attachments": {},
   "cell_type": "markdown",
   "id": "80c420ba",
   "metadata": {
    "deletable": false,
    "editable": false,
    "id": "80c420ba"
   },
   "source": [
    "### Обработка дубликатов"
   ]
  },
  {
   "attachments": {},
   "cell_type": "markdown",
   "id": "dc587695",
   "metadata": {
    "deletable": false,
    "editable": false,
    "id": "dc587695",
    "tags": [
     "start_task"
    ]
   },
   "source": [
    "**Задание 14. Выведем на экран количество строк-дубликатов в данных. Если такие строки присутствуют, удалим их.**"
   ]
  },
  {
   "cell_type": "code",
   "execution_count": 97,
   "id": "3ee445e4",
   "metadata": {
    "id": "3ee445e4",
    "scrolled": false
   },
   "outputs": [],
   "source": [
    "data['education'] = data['education'].str.lower()\n",
    "# посчитайте дубликаты"
   ]
  },
  {
   "cell_type": "code",
   "execution_count": 98,
   "id": "8575fe05",
   "metadata": {
    "id": "8575fe05"
   },
   "outputs": [],
   "source": [
    "data = data.drop_duplicates()# удалите дубликаты"
   ]
  },
  {
   "attachments": {},
   "cell_type": "markdown",
   "id": "9771a76c",
   "metadata": {
    "deletable": false,
    "editable": false,
    "id": "9771a76c",
    "tags": [
     "start_task"
    ]
   },
   "source": [
    "**Задание 15. Обработаем неявные дубликаты в столбце `education`. В этом столбце есть одни и те же значения, но записанные по-разному: с использованием заглавных и строчных букв. Приведем их к нижнему регистру.**"
   ]
  },
  {
   "cell_type": "code",
   "execution_count": 99,
   "id": "a9f8e2bf",
   "metadata": {
    "id": "a9f8e2bf"
   },
   "outputs": [
    {
     "data": {
      "text/plain": [
       "0"
      ]
     },
     "execution_count": 99,
     "metadata": {},
     "output_type": "execute_result"
    }
   ],
   "source": [
    "\n",
    "data = data.drop_duplicates()\n",
    "data.duplicated().sum()"
   ]
  },
  {
   "attachments": {},
   "cell_type": "markdown",
   "id": "9904cf55",
   "metadata": {
    "deletable": false,
    "editable": false,
    "id": "9904cf55"
   },
   "source": [
    "### Категоризация данных"
   ]
  },
  {
   "attachments": {},
   "cell_type": "markdown",
   "id": "72fcc8a2",
   "metadata": {
    "deletable": false,
    "editable": false,
    "id": "72fcc8a2",
    "tags": [
     "start_task"
    ]
   },
   "source": [
    "**Задание 16. На основании диапазонов, указанных ниже, создадим в датафрейме `data` столбец `total_income_category` с категориями:**\n",
    "\n",
    "- 0–30000 — `'E'`;\n",
    "- 30001–50000 — `'D'`;\n",
    "- 50001–200000 — `'C'`;\n",
    "- 200001–1000000 — `'B'`;\n",
    "- 1000001 и выше — `'A'`.\n",
    "\n",
    "\n",
    "**Например, кредитополучателю с доходом 25000 нужно назначить категорию `'E'`, а клиенту, получающему 235000, — `'B'`. Используем собственную функцию с именем `categorize_income()` и метод `apply()`.**"
   ]
  },
  {
   "cell_type": "code",
   "execution_count": 100,
   "id": "e1771346",
   "metadata": {
    "id": "e1771346"
   },
   "outputs": [],
   "source": [
    "def categorize_income(income):\n",
    "    if 0<=income<=30000:\n",
    "        return 'E'\n",
    "    if 30001<=income<=50000:\n",
    "        return 'D'\n",
    "    if 50001<=income<=200000:\n",
    "        return 'C'\n",
    "    if 200001<=income<=1000000:\n",
    "        return 'B'    \n",
    "    if 1000001<=income:\n",
    "        return 'A'    \n",
    "        \n",
    "        \n",
    "        \n",
    "        \n",
    "        # создайте функцию categorize_income()"
   ]
  },
  {
   "cell_type": "code",
   "execution_count": 101,
   "id": "d5f3586d",
   "metadata": {
    "id": "d5f3586d"
   },
   "outputs": [],
   "source": [
    "data['total_income_category'] = data['total_income'].apply(categorize_income)\n",
    "# примените функцию методом apply()"
   ]
  },
  {
   "attachments": {},
   "cell_type": "markdown",
   "id": "dde49b5c",
   "metadata": {
    "deletable": false,
    "editable": false,
    "id": "dde49b5c",
    "tags": [
     "start_task"
    ]
   },
   "source": [
    "**Задание 17. Выведем на экран перечень уникальных целей взятия кредита из столбца `purpose`.**"
   ]
  },
  {
   "cell_type": "code",
   "execution_count": 102,
   "id": "f67ce9b3",
   "metadata": {
    "id": "f67ce9b3"
   },
   "outputs": [
    {
     "name": "stdout",
     "output_type": "stream",
     "text": [
      "['покупка жилья' 'приобретение автомобиля' 'дополнительное образование'\n",
      " 'сыграть свадьбу' 'операции с жильем' 'образование'\n",
      " 'на проведение свадьбы' 'покупка жилья для семьи' 'покупка недвижимости'\n",
      " 'покупка коммерческой недвижимости' 'покупка жилой недвижимости'\n",
      " 'строительство собственной недвижимости' 'недвижимость'\n",
      " 'строительство недвижимости' 'на покупку подержанного автомобиля'\n",
      " 'на покупку своего автомобиля' 'операции с коммерческой недвижимостью'\n",
      " 'строительство жилой недвижимости' 'жилье'\n",
      " 'операции со своей недвижимостью' 'автомобили' 'заняться образованием'\n",
      " 'сделка с подержанным автомобилем' 'получение образования' 'автомобиль'\n",
      " 'свадьба' 'получение дополнительного образования' 'покупка своего жилья'\n",
      " 'операции с недвижимостью' 'получение высшего образования'\n",
      " 'свой автомобиль' 'сделка с автомобилем' 'профильное образование'\n",
      " 'высшее образование' 'покупка жилья для сдачи' 'на покупку автомобиля'\n",
      " 'ремонт жилью' 'заняться высшим образованием']\n"
     ]
    }
   ],
   "source": [
    "print(data['purpose'].unique())# ваш код здесь"
   ]
  },
  {
   "attachments": {},
   "cell_type": "markdown",
   "id": "85d0aef0",
   "metadata": {
    "deletable": false,
    "editable": false,
    "id": "85d0aef0",
    "tags": [
     "start_task"
    ]
   },
   "source": [
    "**Задание 18. Создадим функцию, которая на основании данных из столбца `purpose` сформирует новый столбец `purpose_category`, в который войдут следующие категории:**\n",
    "\n",
    "- `'операции с автомобилем'`,\n",
    "- `'операции с недвижимостью'`,\n",
    "- `'проведение свадьбы'`,\n",
    "- `'получение образования'`.\n",
    "\n",
    "**Например, если в столбце `purpose` находится подстрока `'на покупку автомобиля'`, то в столбце `purpose_category` должна появиться строка `'операции с автомобилем'`.**\n",
    "\n",
    "**Используем собственную функцию с именем `categorize_purpose()` и метод `apply()`. Изучите данные в столбце `purpose` и определим, какие подстроки помогут нам правильно определить категорию.**"
   ]
  },
  {
   "cell_type": "code",
   "execution_count": 285,
   "id": "e149fab4",
   "metadata": {
    "id": "e149fab4"
   },
   "outputs": [],
   "source": [
    "\n",
    "def categorize_purpose(purpose):\n",
    "    if 'автомобил' in purpose:\n",
    "        return 'операции с автомобилем'\n",
    "    if 'жиль' in purpose or 'недвиж'in purpose:\n",
    "        return 'операции с недвижимостью'\n",
    "    if 'свад' in purpose:\n",
    "        return 'проведение свадьбы'\n",
    "    if 'образован' in purpose:\n",
    "        return 'получение образования'\n",
    " # создайте функцию categorize_purpose()"
   ]
  },
  {
   "cell_type": "code",
   "execution_count": 286,
   "id": "bf36e69b",
   "metadata": {
    "id": "bf36e69b"
   },
   "outputs": [],
   "source": [
    "data['purpose_category'] = data['purpose'].apply(categorize_purpose)# примените функцию методом apply()"
   ]
  }
 ],
 "metadata": {
  "ExecuteTimeLog": [
   {
    "duration": 60,
    "start_time": "2022-11-03T10:02:47.396Z"
   },
   {
    "duration": 43,
    "start_time": "2022-11-03T10:03:15.979Z"
   },
   {
    "duration": 7,
    "start_time": "2022-11-03T10:03:38.304Z"
   },
   {
    "duration": 384,
    "start_time": "2022-11-03T10:04:52.921Z"
   },
   {
    "duration": 316,
    "start_time": "2022-11-03T10:05:20.704Z"
   },
   {
    "duration": 69,
    "start_time": "2022-11-03T10:05:26.438Z"
   },
   {
    "duration": 10,
    "start_time": "2022-11-03T10:06:19.898Z"
   },
   {
    "duration": 10,
    "start_time": "2022-11-03T10:12:52.400Z"
   },
   {
    "duration": 61,
    "start_time": "2022-11-03T10:18:06.335Z"
   },
   {
    "duration": 57,
    "start_time": "2022-11-03T10:24:12.467Z"
   },
   {
    "duration": 28,
    "start_time": "2022-11-03T10:25:03.612Z"
   },
   {
    "duration": 14,
    "start_time": "2022-11-03T10:27:39.388Z"
   },
   {
    "duration": 10,
    "start_time": "2022-11-03T10:27:46.302Z"
   },
   {
    "duration": 8,
    "start_time": "2022-11-03T10:28:00.430Z"
   },
   {
    "duration": 11,
    "start_time": "2022-11-03T10:32:37.104Z"
   },
   {
    "duration": 4,
    "start_time": "2022-11-03T10:35:27.869Z"
   },
   {
    "duration": 8,
    "start_time": "2022-11-03T10:35:35.290Z"
   },
   {
    "duration": 15,
    "start_time": "2022-11-03T10:52:34.404Z"
   },
   {
    "duration": 7,
    "start_time": "2022-11-03T10:53:24.368Z"
   },
   {
    "duration": 5,
    "start_time": "2022-11-03T10:53:37.609Z"
   },
   {
    "duration": 11,
    "start_time": "2022-11-03T10:54:30.328Z"
   },
   {
    "duration": 50,
    "start_time": "2022-11-03T10:55:29.368Z"
   },
   {
    "duration": 8,
    "start_time": "2022-11-03T10:55:39.754Z"
   },
   {
    "duration": 767,
    "start_time": "2022-11-03T10:56:22.453Z"
   },
   {
    "duration": 3,
    "start_time": "2022-11-03T10:57:53.378Z"
   },
   {
    "duration": 7,
    "start_time": "2022-11-03T10:58:09.770Z"
   },
   {
    "duration": 7,
    "start_time": "2022-11-03T10:58:20.377Z"
   },
   {
    "duration": 10,
    "start_time": "2022-11-03T11:01:52.732Z"
   },
   {
    "duration": 9,
    "start_time": "2022-11-03T11:07:38.163Z"
   },
   {
    "duration": 12,
    "start_time": "2022-11-03T11:08:01.155Z"
   },
   {
    "duration": 5,
    "start_time": "2022-11-03T11:09:21.824Z"
   },
   {
    "duration": 8,
    "start_time": "2022-11-03T11:10:09.804Z"
   },
   {
    "duration": 8,
    "start_time": "2022-11-03T11:10:20.702Z"
   },
   {
    "duration": 4,
    "start_time": "2022-11-03T11:19:01.580Z"
   },
   {
    "duration": 5,
    "start_time": "2022-11-03T11:40:55.075Z"
   },
   {
    "duration": 9,
    "start_time": "2022-11-03T11:46:35.634Z"
   },
   {
    "duration": 52,
    "start_time": "2022-11-03T17:59:47.143Z"
   },
   {
    "duration": 6,
    "start_time": "2022-11-03T18:00:36.968Z"
   },
   {
    "duration": 6,
    "start_time": "2022-11-03T18:00:42.881Z"
   },
   {
    "duration": 449,
    "start_time": "2022-11-03T18:01:03.614Z"
   },
   {
    "duration": 144,
    "start_time": "2022-11-03T18:01:04.227Z"
   },
   {
    "duration": 14,
    "start_time": "2022-11-03T18:01:06.400Z"
   },
   {
    "duration": 17,
    "start_time": "2022-11-03T18:01:08.745Z"
   },
   {
    "duration": 10,
    "start_time": "2022-11-03T18:01:17.292Z"
   },
   {
    "duration": 7,
    "start_time": "2022-11-03T18:01:23.593Z"
   },
   {
    "duration": 31,
    "start_time": "2022-11-03T18:01:33.506Z"
   },
   {
    "duration": 9,
    "start_time": "2022-11-03T18:02:00.364Z"
   },
   {
    "duration": 74,
    "start_time": "2022-11-03T18:02:05.827Z"
   },
   {
    "duration": 9,
    "start_time": "2022-11-03T18:02:11.237Z"
   },
   {
    "duration": 8,
    "start_time": "2022-11-03T18:03:11.442Z"
   },
   {
    "duration": 8,
    "start_time": "2022-11-03T18:28:05.446Z"
   },
   {
    "duration": 11,
    "start_time": "2022-11-03T18:36:44.615Z"
   },
   {
    "duration": 9,
    "start_time": "2022-11-03T18:37:38.615Z"
   },
   {
    "duration": 6,
    "start_time": "2022-11-03T18:38:18.187Z"
   },
   {
    "duration": 14,
    "start_time": "2022-11-03T18:38:48.111Z"
   },
   {
    "duration": 9,
    "start_time": "2022-11-03T18:39:58.934Z"
   },
   {
    "duration": 6,
    "start_time": "2022-11-03T18:40:04.983Z"
   },
   {
    "duration": 7,
    "start_time": "2022-11-03T18:46:09.962Z"
   },
   {
    "duration": 10,
    "start_time": "2022-11-03T18:58:12.509Z"
   },
   {
    "duration": 0,
    "start_time": "2022-11-03T19:08:29.140Z"
   },
   {
    "duration": 3,
    "start_time": "2022-11-03T19:08:57.991Z"
   },
   {
    "duration": 82,
    "start_time": "2022-11-03T19:08:58.606Z"
   },
   {
    "duration": 9,
    "start_time": "2022-11-03T19:09:00.475Z"
   },
   {
    "duration": 15,
    "start_time": "2022-11-03T19:09:01.959Z"
   },
   {
    "duration": 10,
    "start_time": "2022-11-03T19:09:11.141Z"
   },
   {
    "duration": 9,
    "start_time": "2022-11-03T19:09:15.507Z"
   },
   {
    "duration": 0,
    "start_time": "2022-11-03T19:10:34.983Z"
   },
   {
    "duration": 3,
    "start_time": "2022-11-03T19:10:43.202Z"
   },
   {
    "duration": 10,
    "start_time": "2022-11-03T19:10:47.265Z"
   },
   {
    "duration": 9,
    "start_time": "2022-11-03T19:11:14.370Z"
   },
   {
    "duration": 10,
    "start_time": "2022-11-03T19:11:35.966Z"
   },
   {
    "duration": 9,
    "start_time": "2022-11-03T19:11:59.056Z"
   },
   {
    "duration": 14,
    "start_time": "2022-11-03T19:12:18.147Z"
   },
   {
    "duration": 10,
    "start_time": "2022-11-03T19:12:46.190Z"
   },
   {
    "duration": 10,
    "start_time": "2022-11-03T19:13:19.350Z"
   },
   {
    "duration": 9,
    "start_time": "2022-11-03T19:13:28.420Z"
   },
   {
    "duration": 5,
    "start_time": "2022-11-03T19:28:47.122Z"
   },
   {
    "duration": 10,
    "start_time": "2022-11-03T19:29:08.673Z"
   },
   {
    "duration": 8,
    "start_time": "2022-11-03T19:29:47.438Z"
   },
   {
    "duration": 10,
    "start_time": "2022-11-03T19:31:14.811Z"
   },
   {
    "duration": 9,
    "start_time": "2022-11-03T19:32:13.718Z"
   },
   {
    "duration": 11,
    "start_time": "2022-11-03T19:33:10.979Z"
   },
   {
    "duration": 10,
    "start_time": "2022-11-03T19:33:24.174Z"
   },
   {
    "duration": 7,
    "start_time": "2022-11-03T19:34:14.275Z"
   },
   {
    "duration": 20,
    "start_time": "2022-11-03T19:34:48.679Z"
   },
   {
    "duration": 11,
    "start_time": "2022-11-03T19:36:39.419Z"
   },
   {
    "duration": 11,
    "start_time": "2022-11-03T19:45:45.587Z"
   },
   {
    "duration": 10,
    "start_time": "2022-11-03T19:46:01.859Z"
   },
   {
    "duration": 12,
    "start_time": "2022-11-03T19:47:19.665Z"
   },
   {
    "duration": 15,
    "start_time": "2022-11-03T19:47:44.914Z"
   },
   {
    "duration": 9,
    "start_time": "2022-11-03T19:48:27.615Z"
   },
   {
    "duration": 10,
    "start_time": "2022-11-03T19:48:58.412Z"
   },
   {
    "duration": 18,
    "start_time": "2022-11-03T19:49:35.038Z"
   },
   {
    "duration": 7,
    "start_time": "2022-11-03T19:50:17.567Z"
   },
   {
    "duration": 15,
    "start_time": "2022-11-03T19:50:27.627Z"
   },
   {
    "duration": 15,
    "start_time": "2022-11-03T19:50:54.465Z"
   },
   {
    "duration": 40,
    "start_time": "2022-11-03T19:53:12.004Z"
   },
   {
    "duration": 20,
    "start_time": "2022-11-03T19:53:37.861Z"
   },
   {
    "duration": 20,
    "start_time": "2022-11-03T19:54:19.965Z"
   },
   {
    "duration": 3,
    "start_time": "2022-11-03T19:55:39.332Z"
   },
   {
    "duration": 4,
    "start_time": "2022-11-03T19:56:13.881Z"
   },
   {
    "duration": 9,
    "start_time": "2022-11-03T19:56:26.724Z"
   },
   {
    "duration": 15,
    "start_time": "2022-11-03T19:56:31.810Z"
   },
   {
    "duration": 9,
    "start_time": "2022-11-03T19:57:57.525Z"
   },
   {
    "duration": 17,
    "start_time": "2022-11-03T19:58:21.401Z"
   },
   {
    "duration": 1100,
    "start_time": "2022-11-03T19:58:50.131Z"
   },
   {
    "duration": 17,
    "start_time": "2022-11-03T19:59:07.814Z"
   },
   {
    "duration": 7,
    "start_time": "2022-11-03T20:08:58.653Z"
   },
   {
    "duration": 17,
    "start_time": "2022-11-03T20:09:10.083Z"
   },
   {
    "duration": 82,
    "start_time": "2022-11-03T20:10:01.250Z"
   },
   {
    "duration": 14,
    "start_time": "2022-11-03T20:10:12.128Z"
   },
   {
    "duration": 16,
    "start_time": "2022-11-03T20:10:46.378Z"
   },
   {
    "duration": 9,
    "start_time": "2022-11-03T20:11:05.857Z"
   },
   {
    "duration": 8,
    "start_time": "2022-11-03T20:11:26.346Z"
   },
   {
    "duration": 18,
    "start_time": "2022-11-03T20:34:22.460Z"
   },
   {
    "duration": 20,
    "start_time": "2022-11-03T20:34:49.235Z"
   },
   {
    "duration": 5,
    "start_time": "2022-11-03T20:36:04.197Z"
   },
   {
    "duration": 6,
    "start_time": "2022-11-03T20:36:31.264Z"
   },
   {
    "duration": 86,
    "start_time": "2022-11-03T20:39:16.189Z"
   },
   {
    "duration": 5,
    "start_time": "2022-11-03T20:39:38.391Z"
   },
   {
    "duration": 6,
    "start_time": "2022-11-03T20:40:00.582Z"
   },
   {
    "duration": 6,
    "start_time": "2022-11-03T20:40:15.889Z"
   },
   {
    "duration": 4,
    "start_time": "2022-11-03T20:41:22.195Z"
   },
   {
    "duration": 5,
    "start_time": "2022-11-03T20:41:46.083Z"
   },
   {
    "duration": 7,
    "start_time": "2022-11-03T20:42:00.628Z"
   },
   {
    "duration": 5,
    "start_time": "2022-11-03T20:42:17.028Z"
   },
   {
    "duration": 6,
    "start_time": "2022-11-03T20:42:28.892Z"
   },
   {
    "duration": 8,
    "start_time": "2022-11-03T20:43:12.135Z"
   },
   {
    "duration": 8,
    "start_time": "2022-11-03T20:43:26.339Z"
   },
   {
    "duration": 8,
    "start_time": "2022-11-03T20:47:51.017Z"
   },
   {
    "duration": 4,
    "start_time": "2022-11-03T20:49:54.089Z"
   },
   {
    "duration": 8,
    "start_time": "2022-11-03T20:50:17.103Z"
   },
   {
    "duration": 8,
    "start_time": "2022-11-03T20:50:38.344Z"
   },
   {
    "duration": 7,
    "start_time": "2022-11-03T20:51:07.019Z"
   },
   {
    "duration": 7,
    "start_time": "2022-11-03T20:51:58.254Z"
   },
   {
    "duration": 8,
    "start_time": "2022-11-03T20:52:28.408Z"
   },
   {
    "duration": 7,
    "start_time": "2022-11-03T21:18:34.071Z"
   },
   {
    "duration": 7,
    "start_time": "2022-11-03T21:18:47.687Z"
   },
   {
    "duration": 7,
    "start_time": "2022-11-03T21:19:00.805Z"
   },
   {
    "duration": 8,
    "start_time": "2022-11-03T21:19:11.668Z"
   },
   {
    "duration": 6,
    "start_time": "2022-11-03T21:19:45.781Z"
   },
   {
    "duration": 9,
    "start_time": "2022-11-03T21:20:28.742Z"
   },
   {
    "duration": 10,
    "start_time": "2022-11-03T21:20:47.862Z"
   },
   {
    "duration": 8,
    "start_time": "2022-11-03T21:20:52.626Z"
   },
   {
    "duration": 9,
    "start_time": "2022-11-03T21:21:08.110Z"
   },
   {
    "duration": 5,
    "start_time": "2022-11-03T21:21:16.414Z"
   },
   {
    "duration": 9,
    "start_time": "2022-11-03T21:22:12.099Z"
   },
   {
    "duration": 8,
    "start_time": "2022-11-03T21:22:19.182Z"
   },
   {
    "duration": 9,
    "start_time": "2022-11-03T21:22:33.942Z"
   },
   {
    "duration": 15,
    "start_time": "2022-11-03T21:23:36.121Z"
   },
   {
    "duration": 10,
    "start_time": "2022-11-03T21:24:33.746Z"
   },
   {
    "duration": 3,
    "start_time": "2022-11-03T21:24:43.107Z"
   },
   {
    "duration": 10,
    "start_time": "2022-11-03T21:25:15.599Z"
   },
   {
    "duration": 9,
    "start_time": "2022-11-03T21:25:58.669Z"
   },
   {
    "duration": 14,
    "start_time": "2022-11-03T21:26:48.565Z"
   },
   {
    "duration": 2,
    "start_time": "2022-11-03T21:29:27.819Z"
   },
   {
    "duration": 74,
    "start_time": "2022-11-03T21:29:28.010Z"
   },
   {
    "duration": 9,
    "start_time": "2022-11-03T21:29:28.339Z"
   },
   {
    "duration": 15,
    "start_time": "2022-11-03T21:29:28.631Z"
   },
   {
    "duration": 10,
    "start_time": "2022-11-03T21:29:31.080Z"
   },
   {
    "duration": 7,
    "start_time": "2022-11-03T21:29:41.830Z"
   },
   {
    "duration": 1151,
    "start_time": "2022-11-03T21:35:51.562Z"
   },
   {
    "duration": 45040,
    "start_time": "2022-11-03T21:36:42.900Z"
   },
   {
    "duration": 4,
    "start_time": "2022-11-03T21:40:06.458Z"
   },
   {
    "duration": 64,
    "start_time": "2022-11-03T21:40:06.498Z"
   },
   {
    "duration": 10,
    "start_time": "2022-11-03T21:40:51.500Z"
   },
   {
    "duration": 3,
    "start_time": "2022-11-03T21:40:51.542Z"
   },
   {
    "duration": 59,
    "start_time": "2022-11-03T21:40:51.546Z"
   },
   {
    "duration": 9,
    "start_time": "2022-11-03T21:40:51.607Z"
   },
   {
    "duration": 14,
    "start_time": "2022-11-03T21:40:51.632Z"
   },
   {
    "duration": 9,
    "start_time": "2022-11-03T21:42:49.448Z"
   },
   {
    "duration": 10,
    "start_time": "2022-11-03T21:42:49.458Z"
   },
   {
    "duration": 61754,
    "start_time": "2022-11-03T21:43:24.113Z"
   },
   {
    "duration": 13,
    "start_time": "2022-11-03T21:45:37.181Z"
   },
   {
    "duration": 60867,
    "start_time": "2022-11-03T21:45:53.324Z"
   },
   {
    "duration": 110735,
    "start_time": "2022-11-03T21:47:01.117Z"
   },
   {
    "duration": 90,
    "start_time": "2022-11-03T21:49:40.432Z"
   },
   {
    "duration": 371784,
    "start_time": "2022-11-03T22:02:42.183Z"
   },
   {
    "duration": 46,
    "start_time": "2022-11-03T22:11:33.706Z"
   },
   {
    "duration": 37,
    "start_time": "2022-11-03T22:47:54.256Z"
   },
   {
    "duration": 57,
    "start_time": "2022-11-04T07:18:52.771Z"
   },
   {
    "duration": 6,
    "start_time": "2022-11-04T07:19:33.561Z"
   },
   {
    "duration": 6,
    "start_time": "2022-11-04T07:19:54.191Z"
   },
   {
    "duration": 400,
    "start_time": "2022-11-04T07:20:19.217Z"
   },
   {
    "duration": 295,
    "start_time": "2022-11-04T07:20:19.619Z"
   },
   {
    "duration": 10,
    "start_time": "2022-11-04T07:20:19.916Z"
   },
   {
    "duration": 14,
    "start_time": "2022-11-04T07:20:20.233Z"
   },
   {
    "duration": 9,
    "start_time": "2022-11-04T07:20:22.146Z"
   },
   {
    "duration": 39,
    "start_time": "2022-11-04T07:20:23.929Z"
   },
   {
    "duration": 5,
    "start_time": "2022-11-04T07:20:26.682Z"
   },
   {
    "duration": 5,
    "start_time": "2022-11-04T07:23:01.553Z"
   },
   {
    "duration": 34,
    "start_time": "2022-11-04T07:23:45.517Z"
   },
   {
    "duration": 3,
    "start_time": "2022-11-04T07:23:54.616Z"
   },
   {
    "duration": 72,
    "start_time": "2022-11-04T07:23:56.613Z"
   },
   {
    "duration": 8,
    "start_time": "2022-11-04T07:23:57.822Z"
   },
   {
    "duration": 14,
    "start_time": "2022-11-04T07:23:59.147Z"
   },
   {
    "duration": 8,
    "start_time": "2022-11-04T07:24:01.898Z"
   },
   {
    "duration": 37,
    "start_time": "2022-11-04T07:24:03.401Z"
   },
   {
    "duration": 6,
    "start_time": "2022-11-04T07:24:13.483Z"
   },
   {
    "duration": 9,
    "start_time": "2022-11-04T07:25:07.345Z"
   },
   {
    "duration": 8,
    "start_time": "2022-11-04T07:25:13.389Z"
   },
   {
    "duration": 10,
    "start_time": "2022-11-04T07:33:18.294Z"
   },
   {
    "duration": 9,
    "start_time": "2022-11-04T07:33:24.750Z"
   },
   {
    "duration": 9,
    "start_time": "2022-11-04T07:33:30.111Z"
   },
   {
    "duration": 3,
    "start_time": "2022-11-04T07:33:35.471Z"
   },
   {
    "duration": 71,
    "start_time": "2022-11-04T07:33:36.003Z"
   },
   {
    "duration": 8,
    "start_time": "2022-11-04T07:33:37.108Z"
   },
   {
    "duration": 14,
    "start_time": "2022-11-04T07:33:38.269Z"
   },
   {
    "duration": 8,
    "start_time": "2022-11-04T07:33:40.626Z"
   },
   {
    "duration": 38,
    "start_time": "2022-11-04T07:33:42.077Z"
   },
   {
    "duration": 5,
    "start_time": "2022-11-04T07:33:45.031Z"
   },
   {
    "duration": 9,
    "start_time": "2022-11-04T07:35:01.860Z"
   },
   {
    "duration": 8,
    "start_time": "2022-11-04T07:35:13.962Z"
   },
   {
    "duration": 10,
    "start_time": "2022-11-04T07:35:29.995Z"
   },
   {
    "duration": 4,
    "start_time": "2022-11-04T07:35:33.443Z"
   },
   {
    "duration": 11,
    "start_time": "2022-11-04T07:35:35.588Z"
   },
   {
    "duration": 4,
    "start_time": "2022-11-04T07:35:42.623Z"
   },
   {
    "duration": 11,
    "start_time": "2022-11-04T07:35:43.679Z"
   },
   {
    "duration": 9,
    "start_time": "2022-11-04T07:35:45.441Z"
   },
   {
    "duration": 2,
    "start_time": "2022-11-04T07:35:52.270Z"
   },
   {
    "duration": 76,
    "start_time": "2022-11-04T07:35:52.735Z"
   },
   {
    "duration": 8,
    "start_time": "2022-11-04T07:35:53.922Z"
   },
   {
    "duration": 13,
    "start_time": "2022-11-04T07:35:55.011Z"
   },
   {
    "duration": 8,
    "start_time": "2022-11-04T07:35:57.338Z"
   },
   {
    "duration": 36,
    "start_time": "2022-11-04T07:35:58.577Z"
   },
   {
    "duration": 6,
    "start_time": "2022-11-04T07:36:00.652Z"
   },
   {
    "duration": 10,
    "start_time": "2022-11-04T07:42:13.121Z"
   },
   {
    "duration": 3,
    "start_time": "2022-11-04T07:42:18.839Z"
   },
   {
    "duration": 72,
    "start_time": "2022-11-04T07:42:19.032Z"
   },
   {
    "duration": 8,
    "start_time": "2022-11-04T07:42:19.424Z"
   },
   {
    "duration": 14,
    "start_time": "2022-11-04T07:42:19.877Z"
   },
   {
    "duration": 9,
    "start_time": "2022-11-04T07:42:21.692Z"
   },
   {
    "duration": 37,
    "start_time": "2022-11-04T07:42:23.031Z"
   },
   {
    "duration": 4,
    "start_time": "2022-11-04T07:42:24.969Z"
   },
   {
    "duration": 7,
    "start_time": "2022-11-04T07:43:08.626Z"
   },
   {
    "duration": 5,
    "start_time": "2022-11-04T07:43:15.918Z"
   },
   {
    "duration": 5,
    "start_time": "2022-11-04T07:46:02.865Z"
   },
   {
    "duration": 7,
    "start_time": "2022-11-04T07:47:59.814Z"
   },
   {
    "duration": 15,
    "start_time": "2022-11-04T07:48:40.213Z"
   },
   {
    "duration": 6,
    "start_time": "2022-11-04T08:00:45.307Z"
   },
   {
    "duration": 13,
    "start_time": "2022-11-04T08:00:54.463Z"
   },
   {
    "duration": 12,
    "start_time": "2022-11-04T08:01:22.031Z"
   },
   {
    "duration": 15,
    "start_time": "2022-11-04T08:16:22.534Z"
   },
   {
    "duration": 10,
    "start_time": "2022-11-04T08:16:45.601Z"
   },
   {
    "duration": 6,
    "start_time": "2022-11-04T08:16:53.026Z"
   },
   {
    "duration": 10,
    "start_time": "2022-11-04T08:17:31.083Z"
   },
   {
    "duration": 9,
    "start_time": "2022-11-04T08:17:53.692Z"
   },
   {
    "duration": 3,
    "start_time": "2022-11-04T08:18:06.903Z"
   },
   {
    "duration": 72,
    "start_time": "2022-11-04T08:18:07.103Z"
   },
   {
    "duration": 8,
    "start_time": "2022-11-04T08:18:07.461Z"
   },
   {
    "duration": 14,
    "start_time": "2022-11-04T08:18:07.843Z"
   },
   {
    "duration": 9,
    "start_time": "2022-11-04T08:18:08.615Z"
   },
   {
    "duration": 38,
    "start_time": "2022-11-04T08:18:09.018Z"
   },
   {
    "duration": 7,
    "start_time": "2022-11-04T08:18:10.136Z"
   },
   {
    "duration": 13,
    "start_time": "2022-11-04T08:18:11.517Z"
   },
   {
    "duration": 6,
    "start_time": "2022-11-04T08:18:39.773Z"
   },
   {
    "duration": 4,
    "start_time": "2022-11-04T08:18:55.289Z"
   },
   {
    "duration": 5,
    "start_time": "2022-11-04T08:19:41.323Z"
   },
   {
    "duration": 4,
    "start_time": "2022-11-04T08:20:34.041Z"
   },
   {
    "duration": 2,
    "start_time": "2022-11-04T08:21:18.485Z"
   },
   {
    "duration": 10,
    "start_time": "2022-11-04T08:21:43.247Z"
   },
   {
    "duration": 9,
    "start_time": "2022-11-04T08:22:25.693Z"
   },
   {
    "duration": 8,
    "start_time": "2022-11-04T08:22:39.870Z"
   },
   {
    "duration": 7,
    "start_time": "2022-11-04T08:22:53.174Z"
   },
   {
    "duration": 6,
    "start_time": "2022-11-04T08:23:05.309Z"
   },
   {
    "duration": 9,
    "start_time": "2022-11-04T08:23:30.990Z"
   },
   {
    "duration": 12,
    "start_time": "2022-11-04T08:23:56.706Z"
   },
   {
    "duration": 2,
    "start_time": "2022-11-04T08:24:06.675Z"
   },
   {
    "duration": 72,
    "start_time": "2022-11-04T08:24:06.869Z"
   },
   {
    "duration": 8,
    "start_time": "2022-11-04T08:24:07.247Z"
   },
   {
    "duration": 13,
    "start_time": "2022-11-04T08:24:07.667Z"
   },
   {
    "duration": 10,
    "start_time": "2022-11-04T08:24:09.446Z"
   },
   {
    "duration": 38,
    "start_time": "2022-11-04T08:24:10.695Z"
   },
   {
    "duration": 5,
    "start_time": "2022-11-04T08:24:12.682Z"
   },
   {
    "duration": 7,
    "start_time": "2022-11-04T08:24:31.113Z"
   },
   {
    "duration": 9,
    "start_time": "2022-11-04T08:25:01.450Z"
   },
   {
    "duration": 9,
    "start_time": "2022-11-04T08:26:51.102Z"
   },
   {
    "duration": 3,
    "start_time": "2022-11-04T08:26:56.864Z"
   },
   {
    "duration": 72,
    "start_time": "2022-11-04T08:26:57.043Z"
   },
   {
    "duration": 8,
    "start_time": "2022-11-04T08:26:57.414Z"
   },
   {
    "duration": 16,
    "start_time": "2022-11-04T08:26:57.804Z"
   },
   {
    "duration": 9,
    "start_time": "2022-11-04T08:26:58.535Z"
   },
   {
    "duration": 47,
    "start_time": "2022-11-04T08:27:05.072Z"
   },
   {
    "duration": 4,
    "start_time": "2022-11-04T08:27:09.183Z"
   },
   {
    "duration": 9,
    "start_time": "2022-11-04T08:30:57.718Z"
   },
   {
    "duration": 5,
    "start_time": "2022-11-04T08:33:52.556Z"
   },
   {
    "duration": 4,
    "start_time": "2022-11-04T08:37:27.840Z"
   },
   {
    "duration": 2,
    "start_time": "2022-11-04T08:47:38.490Z"
   },
   {
    "duration": 3,
    "start_time": "2022-11-04T08:48:50.120Z"
   },
   {
    "duration": 10,
    "start_time": "2022-11-04T08:51:23.392Z"
   },
   {
    "duration": 13,
    "start_time": "2022-11-04T08:52:42.658Z"
   },
   {
    "duration": 9,
    "start_time": "2022-11-04T08:55:15.974Z"
   },
   {
    "duration": 9,
    "start_time": "2022-11-04T08:55:19.820Z"
   },
   {
    "duration": 2,
    "start_time": "2022-11-04T08:55:24.953Z"
   },
   {
    "duration": 74,
    "start_time": "2022-11-04T08:55:25.160Z"
   },
   {
    "duration": 8,
    "start_time": "2022-11-04T08:55:25.560Z"
   },
   {
    "duration": 16,
    "start_time": "2022-11-04T08:55:25.965Z"
   },
   {
    "duration": 9,
    "start_time": "2022-11-04T08:55:26.822Z"
   },
   {
    "duration": 39,
    "start_time": "2022-11-04T08:55:27.270Z"
   },
   {
    "duration": 3,
    "start_time": "2022-11-04T08:55:34.586Z"
   },
   {
    "duration": 9,
    "start_time": "2022-11-04T08:55:36.354Z"
   },
   {
    "duration": 4,
    "start_time": "2022-11-04T08:55:41.505Z"
   },
   {
    "duration": 4,
    "start_time": "2022-11-04T08:55:45.240Z"
   },
   {
    "duration": 5,
    "start_time": "2022-11-04T08:56:01.106Z"
   },
   {
    "duration": 5,
    "start_time": "2022-11-04T08:59:32.717Z"
   },
   {
    "duration": 4,
    "start_time": "2022-11-04T08:59:36.138Z"
   },
   {
    "duration": 4,
    "start_time": "2022-11-04T08:59:54.332Z"
   },
   {
    "duration": 3,
    "start_time": "2022-11-04T08:59:56.495Z"
   },
   {
    "duration": 3,
    "start_time": "2022-11-04T09:05:54.427Z"
   },
   {
    "duration": 3,
    "start_time": "2022-11-04T09:05:58.314Z"
   },
   {
    "duration": 5,
    "start_time": "2022-11-04T09:15:03.566Z"
   },
   {
    "duration": 4,
    "start_time": "2022-11-04T09:15:06.669Z"
   },
   {
    "duration": 5,
    "start_time": "2022-11-04T09:15:58.331Z"
   },
   {
    "duration": 4,
    "start_time": "2022-11-04T09:15:59.614Z"
   },
   {
    "duration": 3,
    "start_time": "2022-11-04T09:16:24.584Z"
   },
   {
    "duration": 4,
    "start_time": "2022-11-04T09:16:25.637Z"
   },
   {
    "duration": 4,
    "start_time": "2022-11-04T09:16:31.168Z"
   },
   {
    "duration": 7,
    "start_time": "2022-11-04T09:16:32.728Z"
   },
   {
    "duration": 3,
    "start_time": "2022-11-04T09:16:39.606Z"
   },
   {
    "duration": 4,
    "start_time": "2022-11-04T09:16:44.733Z"
   },
   {
    "duration": 4,
    "start_time": "2022-11-04T09:16:45.984Z"
   },
   {
    "duration": 3,
    "start_time": "2022-11-04T09:17:03.098Z"
   },
   {
    "duration": 69,
    "start_time": "2022-11-04T09:17:03.619Z"
   },
   {
    "duration": 8,
    "start_time": "2022-11-04T09:17:04.994Z"
   },
   {
    "duration": 14,
    "start_time": "2022-11-04T09:17:06.399Z"
   },
   {
    "duration": 9,
    "start_time": "2022-11-04T09:17:09.002Z"
   },
   {
    "duration": 38,
    "start_time": "2022-11-04T09:17:10.597Z"
   },
   {
    "duration": 3,
    "start_time": "2022-11-04T09:17:12.872Z"
   },
   {
    "duration": 8,
    "start_time": "2022-11-04T09:17:15.955Z"
   },
   {
    "duration": 4,
    "start_time": "2022-11-04T09:17:18.519Z"
   },
   {
    "duration": 4,
    "start_time": "2022-11-04T09:17:20.344Z"
   },
   {
    "duration": 4,
    "start_time": "2022-11-04T09:17:22.324Z"
   },
   {
    "duration": 6,
    "start_time": "2022-11-04T09:17:47.569Z"
   },
   {
    "duration": 5,
    "start_time": "2022-11-04T09:17:48.917Z"
   },
   {
    "duration": 3,
    "start_time": "2022-11-04T09:17:58.689Z"
   },
   {
    "duration": 2,
    "start_time": "2022-11-04T09:18:06.936Z"
   },
   {
    "duration": 68,
    "start_time": "2022-11-04T09:18:07.359Z"
   },
   {
    "duration": 8,
    "start_time": "2022-11-04T09:18:08.298Z"
   },
   {
    "duration": 13,
    "start_time": "2022-11-04T09:18:09.308Z"
   },
   {
    "duration": 9,
    "start_time": "2022-11-04T09:18:11.448Z"
   },
   {
    "duration": 46,
    "start_time": "2022-11-04T09:18:12.530Z"
   },
   {
    "duration": 4,
    "start_time": "2022-11-04T09:18:14.155Z"
   },
   {
    "duration": 10,
    "start_time": "2022-11-04T09:18:15.479Z"
   },
   {
    "duration": 4,
    "start_time": "2022-11-04T09:18:17.538Z"
   },
   {
    "duration": 4,
    "start_time": "2022-11-04T09:18:19.269Z"
   },
   {
    "duration": 3,
    "start_time": "2022-11-04T09:18:20.599Z"
   },
   {
    "duration": 7,
    "start_time": "2022-11-04T09:18:55.205Z"
   },
   {
    "duration": 3,
    "start_time": "2022-11-04T09:19:07.562Z"
   },
   {
    "duration": 6,
    "start_time": "2022-11-04T09:25:34.061Z"
   },
   {
    "duration": 7,
    "start_time": "2022-11-04T09:25:45.315Z"
   },
   {
    "duration": 4,
    "start_time": "2022-11-04T09:25:59.717Z"
   },
   {
    "duration": 4,
    "start_time": "2022-11-04T09:26:03.285Z"
   },
   {
    "duration": 4,
    "start_time": "2022-11-04T09:26:06.273Z"
   },
   {
    "duration": 3,
    "start_time": "2022-11-04T09:26:30.519Z"
   },
   {
    "duration": 4,
    "start_time": "2022-11-04T09:26:34.211Z"
   },
   {
    "duration": 2,
    "start_time": "2022-11-04T09:26:48.932Z"
   },
   {
    "duration": 74,
    "start_time": "2022-11-04T09:26:49.162Z"
   },
   {
    "duration": 7,
    "start_time": "2022-11-04T09:26:49.574Z"
   },
   {
    "duration": 14,
    "start_time": "2022-11-04T09:26:50.005Z"
   },
   {
    "duration": 9,
    "start_time": "2022-11-04T09:26:51.298Z"
   },
   {
    "duration": 37,
    "start_time": "2022-11-04T09:26:51.786Z"
   },
   {
    "duration": 3,
    "start_time": "2022-11-04T09:26:57.241Z"
   },
   {
    "duration": 9,
    "start_time": "2022-11-04T09:26:58.014Z"
   },
   {
    "duration": 4,
    "start_time": "2022-11-04T09:27:02.000Z"
   },
   {
    "duration": 3,
    "start_time": "2022-11-04T09:27:05.541Z"
   },
   {
    "duration": 4,
    "start_time": "2022-11-04T09:27:06.927Z"
   },
   {
    "duration": 3,
    "start_time": "2022-11-04T09:28:39.252Z"
   },
   {
    "duration": 10,
    "start_time": "2022-11-04T09:28:47.660Z"
   },
   {
    "duration": 4,
    "start_time": "2022-11-04T09:28:49.017Z"
   },
   {
    "duration": 10,
    "start_time": "2022-11-04T09:29:10.947Z"
   },
   {
    "duration": 4,
    "start_time": "2022-11-04T09:29:12.124Z"
   },
   {
    "duration": 9,
    "start_time": "2022-11-04T09:29:50.864Z"
   },
   {
    "duration": 8,
    "start_time": "2022-11-04T09:29:52.225Z"
   },
   {
    "duration": 9,
    "start_time": "2022-11-04T09:30:18.974Z"
   },
   {
    "duration": 9,
    "start_time": "2022-11-04T09:30:20.466Z"
   },
   {
    "duration": 9,
    "start_time": "2022-11-04T09:30:26.369Z"
   },
   {
    "duration": 9,
    "start_time": "2022-11-04T09:30:30.697Z"
   },
   {
    "duration": 11,
    "start_time": "2022-11-04T09:30:33.096Z"
   },
   {
    "duration": 3,
    "start_time": "2022-11-04T09:30:40.310Z"
   },
   {
    "duration": 70,
    "start_time": "2022-11-04T09:30:44.150Z"
   },
   {
    "duration": 9,
    "start_time": "2022-11-04T09:30:45.547Z"
   },
   {
    "duration": 15,
    "start_time": "2022-11-04T09:30:47.106Z"
   },
   {
    "duration": 10,
    "start_time": "2022-11-04T09:30:49.268Z"
   },
   {
    "duration": 39,
    "start_time": "2022-11-04T09:30:50.324Z"
   },
   {
    "duration": 3,
    "start_time": "2022-11-04T09:30:51.855Z"
   },
   {
    "duration": 12,
    "start_time": "2022-11-04T09:30:52.896Z"
   },
   {
    "duration": 3,
    "start_time": "2022-11-04T09:30:54.438Z"
   },
   {
    "duration": 3,
    "start_time": "2022-11-04T09:30:57.703Z"
   },
   {
    "duration": 11,
    "start_time": "2022-11-04T09:30:58.615Z"
   },
   {
    "duration": 4,
    "start_time": "2022-11-04T09:31:01.002Z"
   },
   {
    "duration": 11,
    "start_time": "2022-11-04T09:31:30.451Z"
   },
   {
    "duration": 4,
    "start_time": "2022-11-04T09:31:31.791Z"
   },
   {
    "duration": 27,
    "start_time": "2022-11-04T09:40:04.800Z"
   },
   {
    "duration": 4,
    "start_time": "2022-11-04T09:40:06.503Z"
   },
   {
    "duration": 6,
    "start_time": "2022-11-04T09:40:19.144Z"
   },
   {
    "duration": 4,
    "start_time": "2022-11-04T09:40:20.317Z"
   },
   {
    "duration": 7,
    "start_time": "2022-11-04T09:40:26.870Z"
   },
   {
    "duration": 6,
    "start_time": "2022-11-04T09:42:34.039Z"
   },
   {
    "duration": 4,
    "start_time": "2022-11-04T09:42:35.271Z"
   },
   {
    "duration": 72,
    "start_time": "2022-11-04T09:42:43.699Z"
   },
   {
    "duration": 9,
    "start_time": "2022-11-04T09:42:44.210Z"
   },
   {
    "duration": 14,
    "start_time": "2022-11-04T09:42:44.647Z"
   },
   {
    "duration": 9,
    "start_time": "2022-11-04T09:42:45.567Z"
   },
   {
    "duration": 37,
    "start_time": "2022-11-04T09:42:46.014Z"
   },
   {
    "duration": 3,
    "start_time": "2022-11-04T09:42:48.763Z"
   },
   {
    "duration": 9,
    "start_time": "2022-11-04T09:42:51.270Z"
   },
   {
    "duration": 4,
    "start_time": "2022-11-04T09:42:53.342Z"
   },
   {
    "duration": 5,
    "start_time": "2022-11-04T09:42:55.712Z"
   },
   {
    "duration": 3,
    "start_time": "2022-11-04T09:42:57.759Z"
   },
   {
    "duration": 7,
    "start_time": "2022-11-04T09:45:03.530Z"
   },
   {
    "duration": 3,
    "start_time": "2022-11-04T09:45:04.580Z"
   },
   {
    "duration": 38,
    "start_time": "2022-11-04T09:49:24.679Z"
   },
   {
    "duration": 9,
    "start_time": "2022-11-04T09:50:28.258Z"
   },
   {
    "duration": 4,
    "start_time": "2022-11-04T10:05:08.158Z"
   },
   {
    "duration": 25,
    "start_time": "2022-11-04T10:07:15.577Z"
   },
   {
    "duration": 16,
    "start_time": "2022-11-04T10:08:10.577Z"
   },
   {
    "duration": 17,
    "start_time": "2022-11-04T10:08:19.835Z"
   },
   {
    "duration": 17,
    "start_time": "2022-11-04T10:08:35.962Z"
   },
   {
    "duration": 26,
    "start_time": "2022-11-04T10:10:39.001Z"
   },
   {
    "duration": 20,
    "start_time": "2022-11-04T10:11:01.801Z"
   },
   {
    "duration": 10,
    "start_time": "2022-11-04T10:14:50.581Z"
   },
   {
    "duration": 17,
    "start_time": "2022-11-04T10:22:07.737Z"
   },
   {
    "duration": 16,
    "start_time": "2022-11-04T10:22:36.882Z"
   },
   {
    "duration": 16,
    "start_time": "2022-11-04T10:22:46.957Z"
   },
   {
    "duration": 78,
    "start_time": "2022-11-04T19:11:35.062Z"
   },
   {
    "duration": 42,
    "start_time": "2022-11-04T19:11:42.577Z"
   },
   {
    "duration": 7,
    "start_time": "2022-11-04T19:12:58.919Z"
   },
   {
    "duration": 7,
    "start_time": "2022-11-04T19:13:34.390Z"
   },
   {
    "duration": 8,
    "start_time": "2022-11-04T19:13:48.043Z"
   },
   {
    "duration": 6,
    "start_time": "2022-11-04T19:16:54.871Z"
   },
   {
    "duration": 7,
    "start_time": "2022-11-04T19:17:12.050Z"
   },
   {
    "duration": 415,
    "start_time": "2022-11-04T19:17:19.374Z"
   },
   {
    "duration": 123,
    "start_time": "2022-11-04T19:17:19.791Z"
   },
   {
    "duration": 10,
    "start_time": "2022-11-04T19:17:20.039Z"
   },
   {
    "duration": 13,
    "start_time": "2022-11-04T19:17:20.539Z"
   },
   {
    "duration": 8,
    "start_time": "2022-11-04T19:17:21.544Z"
   },
   {
    "duration": 36,
    "start_time": "2022-11-04T19:17:31.501Z"
   },
   {
    "duration": 4,
    "start_time": "2022-11-04T19:17:33.234Z"
   },
   {
    "duration": 12,
    "start_time": "2022-11-04T19:17:34.424Z"
   },
   {
    "duration": 4,
    "start_time": "2022-11-04T19:17:36.284Z"
   },
   {
    "duration": 8,
    "start_time": "2022-11-04T19:17:37.505Z"
   },
   {
    "duration": 4,
    "start_time": "2022-11-04T19:17:38.805Z"
   },
   {
    "duration": 37,
    "start_time": "2022-11-04T19:17:43.253Z"
   },
   {
    "duration": 8,
    "start_time": "2022-11-04T19:17:45.458Z"
   },
   {
    "duration": 4,
    "start_time": "2022-11-04T19:17:48.442Z"
   },
   {
    "duration": 27,
    "start_time": "2022-11-04T19:17:50.612Z"
   },
   {
    "duration": 8,
    "start_time": "2022-11-04T19:30:52.408Z"
   },
   {
    "duration": 89,
    "start_time": "2022-11-04T19:30:59.852Z"
   },
   {
    "duration": 15,
    "start_time": "2022-11-04T19:31:03.979Z"
   },
   {
    "duration": 12,
    "start_time": "2022-11-04T19:34:42.204Z"
   },
   {
    "duration": 3,
    "start_time": "2022-11-04T19:34:43.300Z"
   },
   {
    "duration": 11,
    "start_time": "2022-11-04T19:34:48.627Z"
   },
   {
    "duration": 9,
    "start_time": "2022-11-04T19:35:31.266Z"
   },
   {
    "duration": 8,
    "start_time": "2022-11-04T19:37:13.077Z"
   },
   {
    "duration": 19,
    "start_time": "2022-11-04T19:38:41.966Z"
   },
   {
    "duration": 26,
    "start_time": "2022-11-04T19:40:28.423Z"
   },
   {
    "duration": 18,
    "start_time": "2022-11-04T19:41:14.026Z"
   },
   {
    "duration": 16,
    "start_time": "2022-11-04T19:41:33.595Z"
   },
   {
    "duration": 20,
    "start_time": "2022-11-04T19:41:49.493Z"
   },
   {
    "duration": 16,
    "start_time": "2022-11-04T19:44:18.488Z"
   },
   {
    "duration": 16,
    "start_time": "2022-11-04T19:44:57.974Z"
   },
   {
    "duration": 16,
    "start_time": "2022-11-04T19:45:09.185Z"
   },
   {
    "duration": 4,
    "start_time": "2022-11-04T19:45:18.145Z"
   },
   {
    "duration": 81,
    "start_time": "2022-11-04T19:45:18.424Z"
   },
   {
    "duration": 9,
    "start_time": "2022-11-04T19:45:18.976Z"
   },
   {
    "duration": 14,
    "start_time": "2022-11-04T19:45:19.561Z"
   },
   {
    "duration": 8,
    "start_time": "2022-11-04T19:45:20.670Z"
   },
   {
    "duration": 35,
    "start_time": "2022-11-04T19:45:21.275Z"
   },
   {
    "duration": 4,
    "start_time": "2022-11-04T19:45:22.163Z"
   },
   {
    "duration": 8,
    "start_time": "2022-11-04T19:45:22.829Z"
   },
   {
    "duration": 4,
    "start_time": "2022-11-04T19:45:24.377Z"
   },
   {
    "duration": 7,
    "start_time": "2022-11-04T19:45:25.970Z"
   },
   {
    "duration": 4,
    "start_time": "2022-11-04T19:45:27.381Z"
   },
   {
    "duration": 35,
    "start_time": "2022-11-04T19:45:29.223Z"
   },
   {
    "duration": 8,
    "start_time": "2022-11-04T19:45:30.360Z"
   },
   {
    "duration": 3,
    "start_time": "2022-11-04T19:45:32.945Z"
   },
   {
    "duration": 14,
    "start_time": "2022-11-04T19:45:34.679Z"
   },
   {
    "duration": 21,
    "start_time": "2022-11-04T19:48:31.965Z"
   },
   {
    "duration": 16,
    "start_time": "2022-11-04T19:49:28.879Z"
   },
   {
    "duration": 19,
    "start_time": "2022-11-04T19:54:57.687Z"
   },
   {
    "duration": 5,
    "start_time": "2022-11-04T20:02:16.962Z"
   },
   {
    "duration": 4,
    "start_time": "2022-11-04T20:02:20.563Z"
   },
   {
    "duration": 8,
    "start_time": "2022-11-04T20:05:46.692Z"
   },
   {
    "duration": 8,
    "start_time": "2022-11-04T20:07:14.080Z"
   },
   {
    "duration": 8,
    "start_time": "2022-11-04T20:07:41.669Z"
   },
   {
    "duration": 3,
    "start_time": "2022-11-04T20:07:49.119Z"
   },
   {
    "duration": 3,
    "start_time": "2022-11-04T20:07:52.502Z"
   },
   {
    "duration": 8,
    "start_time": "2022-11-04T20:09:51.420Z"
   },
   {
    "duration": 4,
    "start_time": "2022-11-04T20:12:45.363Z"
   },
   {
    "duration": 8,
    "start_time": "2022-11-04T20:12:57.720Z"
   },
   {
    "duration": 8,
    "start_time": "2022-11-04T20:13:31.626Z"
   },
   {
    "duration": 20,
    "start_time": "2022-11-04T20:13:38.124Z"
   },
   {
    "duration": 3,
    "start_time": "2022-11-04T20:13:56.281Z"
   },
   {
    "duration": 67,
    "start_time": "2022-11-04T20:13:56.829Z"
   },
   {
    "duration": 8,
    "start_time": "2022-11-04T20:13:57.845Z"
   },
   {
    "duration": 13,
    "start_time": "2022-11-04T20:13:58.844Z"
   },
   {
    "duration": 8,
    "start_time": "2022-11-04T20:14:00.751Z"
   },
   {
    "duration": 38,
    "start_time": "2022-11-04T20:14:01.729Z"
   },
   {
    "duration": 4,
    "start_time": "2022-11-04T20:14:02.995Z"
   },
   {
    "duration": 8,
    "start_time": "2022-11-04T20:14:03.874Z"
   },
   {
    "duration": 4,
    "start_time": "2022-11-04T20:14:05.284Z"
   },
   {
    "duration": 6,
    "start_time": "2022-11-04T20:14:06.256Z"
   },
   {
    "duration": 4,
    "start_time": "2022-11-04T20:14:07.407Z"
   },
   {
    "duration": 37,
    "start_time": "2022-11-04T20:14:09.006Z"
   },
   {
    "duration": 8,
    "start_time": "2022-11-04T20:14:10.588Z"
   },
   {
    "duration": 4,
    "start_time": "2022-11-04T20:14:13.477Z"
   },
   {
    "duration": 19,
    "start_time": "2022-11-04T20:14:15.798Z"
   },
   {
    "duration": 14,
    "start_time": "2022-11-04T20:15:35.505Z"
   },
   {
    "duration": 3,
    "start_time": "2022-11-04T20:15:40.125Z"
   },
   {
    "duration": 4,
    "start_time": "2022-11-04T20:15:55.841Z"
   },
   {
    "duration": 8,
    "start_time": "2022-11-04T20:16:21.381Z"
   },
   {
    "duration": 840,
    "start_time": "2022-11-04T20:16:54.998Z"
   },
   {
    "duration": 799,
    "start_time": "2022-11-04T20:17:31.595Z"
   },
   {
    "duration": 855,
    "start_time": "2022-11-04T20:17:48.275Z"
   },
   {
    "duration": 3,
    "start_time": "2022-11-04T20:21:22.365Z"
   },
   {
    "duration": 9,
    "start_time": "2022-11-04T20:22:37.250Z"
   },
   {
    "duration": 7,
    "start_time": "2022-11-04T20:23:12.838Z"
   },
   {
    "duration": 9,
    "start_time": "2022-11-04T20:23:38.092Z"
   },
   {
    "duration": 67,
    "start_time": "2022-11-04T20:25:46.187Z"
   },
   {
    "duration": 8,
    "start_time": "2022-11-04T20:25:59.669Z"
   },
   {
    "duration": 795,
    "start_time": "2022-11-04T20:26:13.253Z"
   },
   {
    "duration": 837,
    "start_time": "2022-11-04T20:26:24.963Z"
   },
   {
    "duration": 801,
    "start_time": "2022-11-04T20:26:58.222Z"
   },
   {
    "duration": 3,
    "start_time": "2022-11-04T20:27:14.007Z"
   },
   {
    "duration": 64,
    "start_time": "2022-11-04T20:27:14.261Z"
   },
   {
    "duration": 8,
    "start_time": "2022-11-04T20:27:14.691Z"
   },
   {
    "duration": 14,
    "start_time": "2022-11-04T20:27:15.195Z"
   },
   {
    "duration": 11,
    "start_time": "2022-11-04T20:27:16.778Z"
   },
   {
    "duration": 34,
    "start_time": "2022-11-04T20:27:18.021Z"
   },
   {
    "duration": 3,
    "start_time": "2022-11-04T20:27:18.766Z"
   },
   {
    "duration": 9,
    "start_time": "2022-11-04T20:27:23.649Z"
   },
   {
    "duration": 4,
    "start_time": "2022-11-04T20:27:26.925Z"
   },
   {
    "duration": 7,
    "start_time": "2022-11-04T20:27:30.148Z"
   },
   {
    "duration": 3,
    "start_time": "2022-11-04T20:27:31.144Z"
   },
   {
    "duration": 36,
    "start_time": "2022-11-04T20:27:32.904Z"
   },
   {
    "duration": 9,
    "start_time": "2022-11-04T20:27:36.028Z"
   },
   {
    "duration": 4,
    "start_time": "2022-11-04T20:27:40.806Z"
   },
   {
    "duration": 6,
    "start_time": "2022-11-04T20:27:43.075Z"
   },
   {
    "duration": 11,
    "start_time": "2022-11-04T20:28:29.534Z"
   },
   {
    "duration": 5,
    "start_time": "2022-11-04T20:28:40.686Z"
   },
   {
    "duration": 8,
    "start_time": "2022-11-04T20:29:03.830Z"
   },
   {
    "duration": 9,
    "start_time": "2022-11-04T20:29:37.493Z"
   },
   {
    "duration": 12,
    "start_time": "2022-11-04T20:30:12.347Z"
   },
   {
    "duration": 34,
    "start_time": "2022-11-04T20:30:28.626Z"
   },
   {
    "duration": 12,
    "start_time": "2022-11-04T20:30:33.276Z"
   },
   {
    "duration": 6,
    "start_time": "2022-11-04T20:30:51.144Z"
   },
   {
    "duration": 8,
    "start_time": "2022-11-04T20:31:07.449Z"
   },
   {
    "duration": 11,
    "start_time": "2022-11-04T20:31:24.296Z"
   },
   {
    "duration": 12,
    "start_time": "2022-11-04T20:31:44.194Z"
   },
   {
    "duration": 19,
    "start_time": "2022-11-04T20:32:32.523Z"
   },
   {
    "duration": 15,
    "start_time": "2022-11-04T20:32:53.941Z"
   },
   {
    "duration": 16,
    "start_time": "2022-11-04T20:33:16.045Z"
   },
   {
    "duration": 11,
    "start_time": "2022-11-04T20:52:15.366Z"
   },
   {
    "duration": 2,
    "start_time": "2022-11-04T21:24:45.779Z"
   },
   {
    "duration": 19,
    "start_time": "2022-11-04T21:25:07.212Z"
   },
   {
    "duration": 1187,
    "start_time": "2022-11-04T21:26:00.231Z"
   },
   {
    "duration": 7,
    "start_time": "2022-11-04T21:26:18.957Z"
   },
   {
    "duration": 8,
    "start_time": "2022-11-04T21:27:12.343Z"
   },
   {
    "duration": 7,
    "start_time": "2022-11-04T21:27:26.432Z"
   },
   {
    "duration": 7,
    "start_time": "2022-11-04T21:27:33.341Z"
   },
   {
    "duration": 7,
    "start_time": "2022-11-04T21:27:59.199Z"
   },
   {
    "duration": 3,
    "start_time": "2022-11-04T21:29:09.658Z"
   },
   {
    "duration": 7,
    "start_time": "2022-11-04T21:30:13.183Z"
   },
   {
    "duration": 8,
    "start_time": "2022-11-04T21:33:12.794Z"
   },
   {
    "duration": 7,
    "start_time": "2022-11-04T21:34:46.478Z"
   },
   {
    "duration": 10,
    "start_time": "2022-11-04T21:35:15.901Z"
   },
   {
    "duration": 9,
    "start_time": "2022-11-04T21:35:18.465Z"
   },
   {
    "duration": 25,
    "start_time": "2022-11-04T21:42:42.859Z"
   },
   {
    "duration": 1077,
    "start_time": "2022-11-04T21:58:27.407Z"
   },
   {
    "duration": 3,
    "start_time": "2022-11-04T21:59:24.335Z"
   },
   {
    "duration": 3,
    "start_time": "2022-11-04T21:59:33.530Z"
   },
   {
    "duration": 65,
    "start_time": "2022-11-04T21:59:33.901Z"
   },
   {
    "duration": 8,
    "start_time": "2022-11-04T21:59:34.670Z"
   },
   {
    "duration": 13,
    "start_time": "2022-11-04T21:59:35.497Z"
   },
   {
    "duration": 8,
    "start_time": "2022-11-04T21:59:36.941Z"
   },
   {
    "duration": 34,
    "start_time": "2022-11-04T21:59:37.655Z"
   },
   {
    "duration": 4,
    "start_time": "2022-11-04T21:59:39.090Z"
   },
   {
    "duration": 9,
    "start_time": "2022-11-04T21:59:39.969Z"
   },
   {
    "duration": 4,
    "start_time": "2022-11-04T21:59:41.305Z"
   },
   {
    "duration": 7,
    "start_time": "2022-11-04T21:59:42.243Z"
   },
   {
    "duration": 4,
    "start_time": "2022-11-04T21:59:43.138Z"
   },
   {
    "duration": 36,
    "start_time": "2022-11-04T21:59:44.525Z"
   },
   {
    "duration": 9,
    "start_time": "2022-11-04T21:59:45.437Z"
   },
   {
    "duration": 4,
    "start_time": "2022-11-04T21:59:46.826Z"
   },
   {
    "duration": 9,
    "start_time": "2022-11-04T21:59:48.182Z"
   },
   {
    "duration": 19,
    "start_time": "2022-11-04T21:59:48.637Z"
   },
   {
    "duration": 30,
    "start_time": "2022-11-04T21:59:49.564Z"
   },
   {
    "duration": 4,
    "start_time": "2022-11-04T21:59:50.996Z"
   },
   {
    "duration": 1316,
    "start_time": "2022-11-04T21:59:51.465Z"
   },
   {
    "duration": 3,
    "start_time": "2022-11-04T22:02:23.733Z"
   },
   {
    "duration": 3,
    "start_time": "2022-11-04T22:02:29.992Z"
   },
   {
    "duration": 1135,
    "start_time": "2022-11-04T22:12:43.123Z"
   },
   {
    "duration": 10,
    "start_time": "2022-11-04T22:14:16.410Z"
   },
   {
    "duration": 4,
    "start_time": "2022-11-04T22:15:07.942Z"
   },
   {
    "duration": 3,
    "start_time": "2022-11-04T22:25:19.901Z"
   },
   {
    "duration": 6,
    "start_time": "2022-11-04T22:25:20.727Z"
   },
   {
    "duration": 8,
    "start_time": "2022-11-04T22:26:03.397Z"
   },
   {
    "duration": 95,
    "start_time": "2022-11-04T22:45:43.356Z"
   },
   {
    "duration": 4,
    "start_time": "2022-11-04T22:46:16.288Z"
   },
   {
    "duration": 12,
    "start_time": "2022-11-04T22:46:22.568Z"
   },
   {
    "duration": 3,
    "start_time": "2022-11-04T23:02:04.656Z"
   },
   {
    "duration": 8,
    "start_time": "2022-11-04T23:02:05.489Z"
   },
   {
    "duration": 12,
    "start_time": "2022-11-05T14:41:46.284Z"
   },
   {
    "duration": 43,
    "start_time": "2022-11-05T14:41:46.789Z"
   },
   {
    "duration": 434,
    "start_time": "2022-11-05T14:41:58.494Z"
   },
   {
    "duration": 367,
    "start_time": "2022-11-05T14:41:58.931Z"
   },
   {
    "duration": 11,
    "start_time": "2022-11-05T14:41:59.300Z"
   },
   {
    "duration": 17,
    "start_time": "2022-11-05T14:42:01.087Z"
   },
   {
    "duration": 9,
    "start_time": "2022-11-05T14:42:07.087Z"
   },
   {
    "duration": 40,
    "start_time": "2022-11-05T14:42:08.067Z"
   },
   {
    "duration": 4,
    "start_time": "2022-11-05T14:42:09.262Z"
   },
   {
    "duration": 10,
    "start_time": "2022-11-05T14:42:09.926Z"
   },
   {
    "duration": 4,
    "start_time": "2022-11-05T14:42:11.029Z"
   },
   {
    "duration": 8,
    "start_time": "2022-11-05T14:42:11.764Z"
   },
   {
    "duration": 5,
    "start_time": "2022-11-05T14:42:12.535Z"
   },
   {
    "duration": 57,
    "start_time": "2022-11-05T14:42:13.720Z"
   },
   {
    "duration": 9,
    "start_time": "2022-11-05T14:42:14.487Z"
   },
   {
    "duration": 4,
    "start_time": "2022-11-05T14:42:15.594Z"
   },
   {
    "duration": 11,
    "start_time": "2022-11-05T14:42:16.692Z"
   },
   {
    "duration": 20,
    "start_time": "2022-11-05T14:42:17.114Z"
   },
   {
    "duration": 35,
    "start_time": "2022-11-05T14:42:18.226Z"
   },
   {
    "duration": 4,
    "start_time": "2022-11-05T14:42:19.891Z"
   },
   {
    "duration": 11,
    "start_time": "2022-11-05T14:42:20.317Z"
   },
   {
    "duration": 7,
    "start_time": "2022-11-05T14:42:21.121Z"
   },
   {
    "duration": 6,
    "start_time": "2022-11-05T14:42:21.985Z"
   },
   {
    "duration": 14,
    "start_time": "2022-11-05T14:42:22.410Z"
   },
   {
    "duration": 56,
    "start_time": "2022-11-05T14:49:36.786Z"
   },
   {
    "duration": 63,
    "start_time": "2022-11-05T14:50:22.831Z"
   },
   {
    "duration": 58,
    "start_time": "2022-11-05T14:50:39.285Z"
   },
   {
    "duration": 60,
    "start_time": "2022-11-05T14:50:51.121Z"
   },
   {
    "duration": 46,
    "start_time": "2022-11-05T14:51:21.128Z"
   },
   {
    "duration": 44,
    "start_time": "2022-11-05T14:51:34.692Z"
   },
   {
    "duration": 47,
    "start_time": "2022-11-05T14:51:47.329Z"
   },
   {
    "duration": 42,
    "start_time": "2022-11-05T14:52:29.285Z"
   },
   {
    "duration": 46,
    "start_time": "2022-11-05T14:52:47.317Z"
   },
   {
    "duration": 120,
    "start_time": "2022-11-05T15:00:45.143Z"
   },
   {
    "duration": 81,
    "start_time": "2022-11-05T15:00:54.504Z"
   },
   {
    "duration": 62,
    "start_time": "2022-11-05T15:01:00.761Z"
   },
   {
    "duration": 56,
    "start_time": "2022-11-05T15:01:06.023Z"
   },
   {
    "duration": 47,
    "start_time": "2022-11-05T15:01:16.823Z"
   },
   {
    "duration": 3,
    "start_time": "2022-11-05T15:01:50.342Z"
   },
   {
    "duration": 14,
    "start_time": "2022-11-05T15:05:25.671Z"
   },
   {
    "duration": 49,
    "start_time": "2022-11-05T15:06:03.571Z"
   },
   {
    "duration": 51,
    "start_time": "2022-11-05T15:06:27.015Z"
   },
   {
    "duration": 60,
    "start_time": "2022-11-05T15:06:49.583Z"
   },
   {
    "duration": 59,
    "start_time": "2022-11-05T15:07:04.878Z"
   },
   {
    "duration": 43,
    "start_time": "2022-11-05T15:07:38.159Z"
   },
   {
    "duration": 4,
    "start_time": "2022-11-05T15:07:53.710Z"
   },
   {
    "duration": 245,
    "start_time": "2022-11-05T15:07:59.265Z"
   },
   {
    "duration": 3,
    "start_time": "2022-11-05T15:09:32.086Z"
   },
   {
    "duration": 50,
    "start_time": "2022-11-05T15:09:35.903Z"
   },
   {
    "duration": 18,
    "start_time": "2022-11-05T15:10:03.866Z"
   },
   {
    "duration": 5,
    "start_time": "2022-11-05T15:10:33.810Z"
   },
   {
    "duration": 24,
    "start_time": "2022-11-05T15:10:38.116Z"
   },
   {
    "duration": 4,
    "start_time": "2022-11-05T15:10:47.998Z"
   },
   {
    "duration": 27,
    "start_time": "2022-11-05T15:10:53.072Z"
   },
   {
    "duration": 64,
    "start_time": "2022-11-05T15:12:01.069Z"
   },
   {
    "duration": 62,
    "start_time": "2022-11-05T15:14:32.499Z"
   },
   {
    "duration": 50,
    "start_time": "2022-11-05T15:14:51.318Z"
   },
   {
    "duration": 46,
    "start_time": "2022-11-05T15:15:16.990Z"
   },
   {
    "duration": 8,
    "start_time": "2022-11-05T15:15:58.476Z"
   },
   {
    "duration": 43,
    "start_time": "2022-11-05T15:16:28.271Z"
   },
   {
    "duration": 27,
    "start_time": "2022-11-05T15:16:50.829Z"
   },
   {
    "duration": 4,
    "start_time": "2022-11-05T15:17:05.581Z"
   },
   {
    "duration": 41,
    "start_time": "2022-11-05T15:17:08.910Z"
   },
   {
    "duration": 5,
    "start_time": "2022-11-05T15:18:19.628Z"
   },
   {
    "duration": 177,
    "start_time": "2022-11-05T15:18:21.207Z"
   },
   {
    "duration": 4,
    "start_time": "2022-11-05T15:18:56.185Z"
   },
   {
    "duration": 6,
    "start_time": "2022-11-05T15:19:01.980Z"
   },
   {
    "duration": 57,
    "start_time": "2022-11-05T15:19:02.842Z"
   },
   {
    "duration": 5,
    "start_time": "2022-11-05T15:19:28.732Z"
   },
   {
    "duration": 35,
    "start_time": "2022-11-05T15:19:29.360Z"
   },
   {
    "duration": 7,
    "start_time": "2022-11-05T15:20:30.077Z"
   },
   {
    "duration": 64,
    "start_time": "2022-11-05T15:20:31.531Z"
   },
   {
    "duration": 5,
    "start_time": "2022-11-05T15:21:21.143Z"
   },
   {
    "duration": 28,
    "start_time": "2022-11-05T15:21:21.635Z"
   },
   {
    "duration": 55,
    "start_time": "2022-11-05T15:22:43.922Z"
   },
   {
    "duration": 36,
    "start_time": "2022-11-05T15:22:45.000Z"
   },
   {
    "duration": 6,
    "start_time": "2022-11-05T15:22:55.407Z"
   },
   {
    "duration": 33,
    "start_time": "2022-11-05T15:22:58.309Z"
   },
   {
    "duration": 6,
    "start_time": "2022-11-05T15:23:16.989Z"
   },
   {
    "duration": 188,
    "start_time": "2022-11-05T15:23:17.893Z"
   },
   {
    "duration": 4,
    "start_time": "2022-11-05T15:23:28.346Z"
   },
   {
    "duration": 91,
    "start_time": "2022-11-05T15:23:28.925Z"
   },
   {
    "duration": 57,
    "start_time": "2022-11-05T15:27:12.021Z"
   },
   {
    "duration": 43,
    "start_time": "2022-11-05T15:27:18.964Z"
   },
   {
    "duration": 50,
    "start_time": "2022-11-05T15:27:53.175Z"
   },
   {
    "duration": 34,
    "start_time": "2022-11-05T15:27:56.193Z"
   },
   {
    "duration": 4,
    "start_time": "2022-11-05T15:28:03.123Z"
   },
   {
    "duration": 28,
    "start_time": "2022-11-05T15:28:03.614Z"
   },
   {
    "duration": 5,
    "start_time": "2022-11-05T15:28:34.398Z"
   },
   {
    "duration": 202,
    "start_time": "2022-11-05T15:28:35.862Z"
   },
   {
    "duration": 4,
    "start_time": "2022-11-05T15:28:56.741Z"
   },
   {
    "duration": 97,
    "start_time": "2022-11-05T15:29:01.408Z"
   },
   {
    "duration": 5,
    "start_time": "2022-11-05T15:30:48.357Z"
   },
   {
    "duration": 30,
    "start_time": "2022-11-05T15:30:48.700Z"
   },
   {
    "duration": 5,
    "start_time": "2022-11-05T15:31:01.150Z"
   },
   {
    "duration": 78,
    "start_time": "2022-11-05T15:31:01.761Z"
   },
   {
    "duration": 55,
    "start_time": "2022-11-05T15:31:09.634Z"
   },
   {
    "duration": 96,
    "start_time": "2022-11-05T15:31:11.963Z"
   },
   {
    "duration": 5,
    "start_time": "2022-11-05T15:31:27.047Z"
   },
   {
    "duration": 91,
    "start_time": "2022-11-05T15:31:27.302Z"
   },
   {
    "duration": 6,
    "start_time": "2022-11-05T15:51:21.092Z"
   },
   {
    "duration": 173,
    "start_time": "2022-11-05T15:51:22.172Z"
   },
   {
    "duration": 4,
    "start_time": "2022-11-05T15:51:52.487Z"
   },
   {
    "duration": 168,
    "start_time": "2022-11-05T15:51:53.255Z"
   },
   {
    "duration": 5,
    "start_time": "2022-11-05T15:52:03.864Z"
   },
   {
    "duration": 28,
    "start_time": "2022-11-05T15:52:04.469Z"
   },
   {
    "duration": 4,
    "start_time": "2022-11-05T16:53:31.093Z"
   },
   {
    "duration": 181,
    "start_time": "2022-11-05T16:53:32.687Z"
   },
   {
    "duration": 3,
    "start_time": "2022-11-05T16:54:26.890Z"
   },
   {
    "duration": 70,
    "start_time": "2022-11-05T16:54:27.545Z"
   },
   {
    "duration": 8,
    "start_time": "2022-11-05T16:54:28.641Z"
   },
   {
    "duration": 17,
    "start_time": "2022-11-05T16:54:29.679Z"
   },
   {
    "duration": 12,
    "start_time": "2022-11-05T16:54:31.793Z"
   },
   {
    "duration": 40,
    "start_time": "2022-11-05T16:54:32.826Z"
   },
   {
    "duration": 3,
    "start_time": "2022-11-05T16:54:34.276Z"
   },
   {
    "duration": 11,
    "start_time": "2022-11-05T16:54:35.248Z"
   },
   {
    "duration": 4,
    "start_time": "2022-11-05T16:54:36.698Z"
   },
   {
    "duration": 7,
    "start_time": "2022-11-05T16:54:37.697Z"
   },
   {
    "duration": 3,
    "start_time": "2022-11-05T16:54:38.721Z"
   },
   {
    "duration": 38,
    "start_time": "2022-11-05T16:54:40.222Z"
   },
   {
    "duration": 9,
    "start_time": "2022-11-05T16:54:41.290Z"
   },
   {
    "duration": 4,
    "start_time": "2022-11-05T16:54:42.822Z"
   },
   {
    "duration": 9,
    "start_time": "2022-11-05T16:54:44.314Z"
   },
   {
    "duration": 19,
    "start_time": "2022-11-05T16:54:44.837Z"
   },
   {
    "duration": 32,
    "start_time": "2022-11-05T16:54:45.910Z"
   },
   {
    "duration": 3,
    "start_time": "2022-11-05T16:54:47.477Z"
   },
   {
    "duration": 9,
    "start_time": "2022-11-05T16:54:47.994Z"
   },
   {
    "duration": 5,
    "start_time": "2022-11-05T16:54:49.112Z"
   },
   {
    "duration": 2,
    "start_time": "2022-11-05T16:54:50.287Z"
   },
   {
    "duration": 162,
    "start_time": "2022-11-05T16:54:50.801Z"
   },
   {
    "duration": 3,
    "start_time": "2022-11-05T17:01:39.372Z"
   },
   {
    "duration": 20753,
    "start_time": "2022-11-05T17:01:40.145Z"
   },
   {
    "duration": 3,
    "start_time": "2022-11-05T17:03:44.970Z"
   },
   {
    "duration": 21333,
    "start_time": "2022-11-05T17:03:48.829Z"
   },
   {
    "duration": 3,
    "start_time": "2022-11-05T17:06:37.257Z"
   },
   {
    "duration": 21299,
    "start_time": "2022-11-05T17:06:38.022Z"
   },
   {
    "duration": 21611,
    "start_time": "2022-11-05T17:10:00.418Z"
   },
   {
    "duration": 2,
    "start_time": "2022-11-05T17:10:22.031Z"
   },
   {
    "duration": 21875,
    "start_time": "2022-11-05T17:10:22.564Z"
   },
   {
    "duration": 3,
    "start_time": "2022-11-05T17:10:44.440Z"
   },
   {
    "duration": 73,
    "start_time": "2022-11-05T17:10:44.444Z"
   },
   {
    "duration": 9,
    "start_time": "2022-11-05T17:10:44.519Z"
   },
   {
    "duration": 17,
    "start_time": "2022-11-05T17:10:44.529Z"
   },
   {
    "duration": 8,
    "start_time": "2022-11-05T17:10:44.547Z"
   },
   {
    "duration": 38,
    "start_time": "2022-11-05T17:10:44.556Z"
   },
   {
    "duration": 3,
    "start_time": "2022-11-05T17:10:44.595Z"
   },
   {
    "duration": 8,
    "start_time": "2022-11-05T17:10:44.621Z"
   },
   {
    "duration": 3,
    "start_time": "2022-11-05T17:10:44.632Z"
   },
   {
    "duration": 11,
    "start_time": "2022-11-05T17:10:44.636Z"
   },
   {
    "duration": 4,
    "start_time": "2022-11-05T17:10:44.649Z"
   },
   {
    "duration": 41,
    "start_time": "2022-11-05T17:10:44.654Z"
   },
   {
    "duration": 9,
    "start_time": "2022-11-05T17:10:44.739Z"
   },
   {
    "duration": 4,
    "start_time": "2022-11-05T17:10:45.768Z"
   },
   {
    "duration": 10,
    "start_time": "2022-11-05T17:10:47.166Z"
   },
   {
    "duration": 19,
    "start_time": "2022-11-05T17:10:47.525Z"
   },
   {
    "duration": 33,
    "start_time": "2022-11-05T17:10:48.223Z"
   },
   {
    "duration": 3,
    "start_time": "2022-11-05T17:10:54.034Z"
   },
   {
    "duration": 9,
    "start_time": "2022-11-05T17:10:54.715Z"
   },
   {
    "duration": 6,
    "start_time": "2022-11-05T17:10:55.835Z"
   },
   {
    "duration": 21980,
    "start_time": "2022-11-05T17:10:57.107Z"
   },
   {
    "duration": 10,
    "start_time": "2022-11-05T17:11:48.836Z"
   },
   {
    "duration": 10,
    "start_time": "2022-11-05T17:13:15.388Z"
   },
   {
    "duration": 10,
    "start_time": "2022-11-05T17:13:20.251Z"
   },
   {
    "duration": 21062,
    "start_time": "2022-11-05T17:14:31.227Z"
   },
   {
    "duration": 21504,
    "start_time": "2022-11-05T17:22:05.948Z"
   },
   {
    "duration": 58,
    "start_time": "2022-11-05T17:22:47.131Z"
   },
   {
    "duration": 44,
    "start_time": "2022-11-05T17:23:04.857Z"
   },
   {
    "duration": 21160,
    "start_time": "2022-11-05T17:23:28.136Z"
   },
   {
    "duration": 53,
    "start_time": "2022-11-05T17:27:39.655Z"
   },
   {
    "duration": 47,
    "start_time": "2022-11-05T17:27:48.930Z"
   },
   {
    "duration": 20987,
    "start_time": "2022-11-05T17:28:02.104Z"
   },
   {
    "duration": 968,
    "start_time": "2022-11-05T17:34:09.056Z"
   },
   {
    "duration": 951,
    "start_time": "2022-11-05T17:34:51.008Z"
   },
   {
    "duration": 173,
    "start_time": "2022-11-05T17:36:13.820Z"
   },
   {
    "duration": 3,
    "start_time": "2022-11-05T17:36:19.754Z"
   },
   {
    "duration": 71,
    "start_time": "2022-11-05T17:36:20.023Z"
   },
   {
    "duration": 9,
    "start_time": "2022-11-05T17:36:20.599Z"
   },
   {
    "duration": 15,
    "start_time": "2022-11-05T17:36:21.173Z"
   },
   {
    "duration": 10,
    "start_time": "2022-11-05T17:36:22.333Z"
   },
   {
    "duration": 45,
    "start_time": "2022-11-05T17:36:22.980Z"
   },
   {
    "duration": 3,
    "start_time": "2022-11-05T17:36:23.808Z"
   },
   {
    "duration": 10,
    "start_time": "2022-11-05T17:36:25.690Z"
   },
   {
    "duration": 4,
    "start_time": "2022-11-05T17:36:26.767Z"
   },
   {
    "duration": 7,
    "start_time": "2022-11-05T17:36:27.441Z"
   },
   {
    "duration": 4,
    "start_time": "2022-11-05T17:36:28.064Z"
   },
   {
    "duration": 39,
    "start_time": "2022-11-05T17:36:29.182Z"
   },
   {
    "duration": 9,
    "start_time": "2022-11-05T17:36:29.968Z"
   },
   {
    "duration": 4,
    "start_time": "2022-11-05T17:36:31.376Z"
   },
   {
    "duration": 13,
    "start_time": "2022-11-05T17:36:32.671Z"
   },
   {
    "duration": 20,
    "start_time": "2022-11-05T17:36:33.106Z"
   },
   {
    "duration": 31,
    "start_time": "2022-11-05T17:36:33.865Z"
   },
   {
    "duration": 4,
    "start_time": "2022-11-05T17:36:35.899Z"
   },
   {
    "duration": 9,
    "start_time": "2022-11-05T17:36:36.899Z"
   },
   {
    "duration": 5,
    "start_time": "2022-11-05T17:36:37.882Z"
   },
   {
    "duration": 208,
    "start_time": "2022-11-05T17:36:38.869Z"
   },
   {
    "duration": 2,
    "start_time": "2022-11-05T17:36:42.203Z"
   },
   {
    "duration": 12,
    "start_time": "2022-11-05T17:38:55.320Z"
   },
   {
    "duration": 12,
    "start_time": "2022-11-05T17:39:12.914Z"
   },
   {
    "duration": 11,
    "start_time": "2022-11-05T17:39:18.006Z"
   },
   {
    "duration": 889,
    "start_time": "2022-11-05T17:40:31.929Z"
   },
   {
    "duration": 925,
    "start_time": "2022-11-05T17:40:47.336Z"
   },
   {
    "duration": 169,
    "start_time": "2022-11-05T17:41:21.940Z"
   },
   {
    "duration": 22105,
    "start_time": "2022-11-05T17:41:38.991Z"
   },
   {
    "duration": 41,
    "start_time": "2022-11-05T17:42:52.031Z"
   },
   {
    "duration": 21188,
    "start_time": "2022-11-05T17:43:02.404Z"
   },
   {
    "duration": 21337,
    "start_time": "2022-11-05T17:43:57.223Z"
   },
   {
    "duration": 10,
    "start_time": "2022-11-05T17:45:18.542Z"
   },
   {
    "duration": 14,
    "start_time": "2022-11-05T17:46:08.941Z"
   },
   {
    "duration": 12,
    "start_time": "2022-11-05T17:46:14.876Z"
   },
   {
    "duration": 207,
    "start_time": "2022-11-05T17:49:28.608Z"
   },
   {
    "duration": 191,
    "start_time": "2022-11-05T17:49:45.312Z"
   },
   {
    "duration": 176,
    "start_time": "2022-11-05T17:50:37.554Z"
   },
   {
    "duration": 207,
    "start_time": "2022-11-05T17:52:18.154Z"
   },
   {
    "duration": 185,
    "start_time": "2022-11-05T18:00:19.835Z"
   },
   {
    "duration": 223,
    "start_time": "2022-11-05T18:01:02.861Z"
   },
   {
    "duration": 183,
    "start_time": "2022-11-05T18:01:22.035Z"
   },
   {
    "duration": 54,
    "start_time": "2022-11-05T18:03:27.067Z"
   },
   {
    "duration": 52,
    "start_time": "2022-11-05T18:03:35.307Z"
   },
   {
    "duration": 54,
    "start_time": "2022-11-05T18:03:52.421Z"
   },
   {
    "duration": 68,
    "start_time": "2022-11-05T18:04:01.964Z"
   },
   {
    "duration": 88,
    "start_time": "2022-11-05T18:04:08.983Z"
   },
   {
    "duration": 54,
    "start_time": "2022-11-05T18:04:51.970Z"
   },
   {
    "duration": 60,
    "start_time": "2022-11-05T18:05:02.009Z"
   },
   {
    "duration": 2536,
    "start_time": "2022-11-05T18:07:17.442Z"
   },
   {
    "duration": 47,
    "start_time": "2022-11-05T18:07:25.511Z"
   },
   {
    "duration": 49,
    "start_time": "2022-11-05T18:07:33.796Z"
   },
   {
    "duration": 54,
    "start_time": "2022-11-05T18:07:40.697Z"
   },
   {
    "duration": 59,
    "start_time": "2022-11-05T18:08:58.397Z"
   },
   {
    "duration": 215,
    "start_time": "2022-11-05T18:10:26.900Z"
   },
   {
    "duration": 68,
    "start_time": "2022-11-05T18:10:37.490Z"
   },
   {
    "duration": 44,
    "start_time": "2022-11-05T18:55:47.541Z"
   },
   {
    "duration": 837,
    "start_time": "2022-11-05T18:56:10.693Z"
   },
   {
    "duration": 789,
    "start_time": "2022-11-05T18:56:25.550Z"
   },
   {
    "duration": 229,
    "start_time": "2022-11-05T18:56:39.818Z"
   },
   {
    "duration": 46,
    "start_time": "2022-11-05T18:56:47.014Z"
   },
   {
    "duration": 857,
    "start_time": "2022-11-05T18:56:54.222Z"
   },
   {
    "duration": 2,
    "start_time": "2022-11-05T18:57:36.172Z"
   },
   {
    "duration": 73,
    "start_time": "2022-11-05T18:57:36.535Z"
   },
   {
    "duration": 9,
    "start_time": "2022-11-05T18:57:37.432Z"
   },
   {
    "duration": 14,
    "start_time": "2022-11-05T18:57:38.316Z"
   },
   {
    "duration": 9,
    "start_time": "2022-11-05T18:57:39.987Z"
   },
   {
    "duration": 40,
    "start_time": "2022-11-05T18:57:40.904Z"
   },
   {
    "duration": 4,
    "start_time": "2022-11-05T18:57:42.271Z"
   },
   {
    "duration": 11,
    "start_time": "2022-11-05T18:57:43.121Z"
   },
   {
    "duration": 3,
    "start_time": "2022-11-05T18:57:44.418Z"
   },
   {
    "duration": 8,
    "start_time": "2022-11-05T18:57:45.274Z"
   },
   {
    "duration": 4,
    "start_time": "2022-11-05T18:57:46.099Z"
   },
   {
    "duration": 36,
    "start_time": "2022-11-05T18:57:47.403Z"
   },
   {
    "duration": 8,
    "start_time": "2022-11-05T18:57:48.271Z"
   },
   {
    "duration": 3,
    "start_time": "2022-11-05T18:57:49.503Z"
   },
   {
    "duration": 9,
    "start_time": "2022-11-05T18:57:50.713Z"
   },
   {
    "duration": 19,
    "start_time": "2022-11-05T18:57:51.167Z"
   },
   {
    "duration": 32,
    "start_time": "2022-11-05T18:57:52.016Z"
   },
   {
    "duration": 3,
    "start_time": "2022-11-05T18:57:53.308Z"
   },
   {
    "duration": 11,
    "start_time": "2022-11-05T18:57:53.735Z"
   },
   {
    "duration": 6,
    "start_time": "2022-11-05T18:57:54.581Z"
   },
   {
    "duration": 615,
    "start_time": "2022-11-05T18:57:56.213Z"
   },
   {
    "duration": 879,
    "start_time": "2022-11-05T18:58:29.370Z"
   },
   {
    "duration": 68,
    "start_time": "2022-11-05T18:59:26.952Z"
   },
   {
    "duration": 67,
    "start_time": "2022-11-05T19:00:17.319Z"
   },
   {
    "duration": 84,
    "start_time": "2022-11-05T19:00:47.586Z"
   },
   {
    "duration": 68,
    "start_time": "2022-11-05T19:01:12.551Z"
   },
   {
    "duration": 551,
    "start_time": "2022-11-05T19:05:16.524Z"
   },
   {
    "duration": 75,
    "start_time": "2022-11-05T19:05:22.305Z"
   },
   {
    "duration": 51,
    "start_time": "2022-11-05T19:06:07.053Z"
   },
   {
    "duration": 66,
    "start_time": "2022-11-05T19:06:25.325Z"
   },
   {
    "duration": 753,
    "start_time": "2022-11-05T19:06:51.585Z"
   },
   {
    "duration": 4,
    "start_time": "2022-11-05T19:07:23.199Z"
   },
   {
    "duration": 386,
    "start_time": "2022-11-05T19:07:34.009Z"
   },
   {
    "duration": 65,
    "start_time": "2022-11-05T19:07:49.578Z"
   },
   {
    "duration": 536,
    "start_time": "2022-11-05T19:08:07.093Z"
   },
   {
    "duration": 595,
    "start_time": "2022-11-05T19:08:54.014Z"
   },
   {
    "duration": 73,
    "start_time": "2022-11-05T19:08:59.955Z"
   },
   {
    "duration": 64,
    "start_time": "2022-11-05T19:09:18.254Z"
   },
   {
    "duration": 559,
    "start_time": "2022-11-05T19:12:19.400Z"
   },
   {
    "duration": 65,
    "start_time": "2022-11-05T19:12:38.510Z"
   },
   {
    "duration": 83,
    "start_time": "2022-11-05T19:12:58.903Z"
   },
   {
    "duration": 110,
    "start_time": "2022-11-05T19:13:38.752Z"
   },
   {
    "duration": 845,
    "start_time": "2022-11-05T19:14:35.575Z"
   },
   {
    "duration": 2,
    "start_time": "2022-11-05T19:15:41.087Z"
   },
   {
    "duration": 1024,
    "start_time": "2022-11-05T19:16:56.023Z"
   },
   {
    "duration": 71,
    "start_time": "2022-11-05T19:17:12.983Z"
   },
   {
    "duration": 8,
    "start_time": "2022-11-05T19:18:26.350Z"
   },
   {
    "duration": 49,
    "start_time": "2022-11-05T19:18:38.371Z"
   },
   {
    "duration": 68,
    "start_time": "2022-11-05T19:18:44.177Z"
   },
   {
    "duration": 67,
    "start_time": "2022-11-05T19:21:27.440Z"
   },
   {
    "duration": 67,
    "start_time": "2022-11-05T19:21:37.242Z"
   },
   {
    "duration": 67,
    "start_time": "2022-11-05T19:22:11.292Z"
   },
   {
    "duration": 43,
    "start_time": "2022-11-05T19:22:25.953Z"
   },
   {
    "duration": 14,
    "start_time": "2022-11-05T19:23:05.789Z"
   },
   {
    "duration": 201,
    "start_time": "2022-11-05T19:23:32.534Z"
   },
   {
    "duration": 197,
    "start_time": "2022-11-05T19:24:01.058Z"
   },
   {
    "duration": 193,
    "start_time": "2022-11-05T19:24:17.946Z"
   },
   {
    "duration": 3,
    "start_time": "2022-11-05T19:24:32.043Z"
   },
   {
    "duration": 67,
    "start_time": "2022-11-05T19:24:32.528Z"
   },
   {
    "duration": 8,
    "start_time": "2022-11-05T19:24:33.462Z"
   },
   {
    "duration": 15,
    "start_time": "2022-11-05T19:24:34.308Z"
   },
   {
    "duration": 8,
    "start_time": "2022-11-05T19:24:36.061Z"
   },
   {
    "duration": 37,
    "start_time": "2022-11-05T19:24:36.976Z"
   },
   {
    "duration": 4,
    "start_time": "2022-11-05T19:24:38.331Z"
   },
   {
    "duration": 9,
    "start_time": "2022-11-05T19:24:40.731Z"
   },
   {
    "duration": 4,
    "start_time": "2022-11-05T19:24:42.277Z"
   },
   {
    "duration": 7,
    "start_time": "2022-11-05T19:24:43.165Z"
   },
   {
    "duration": 4,
    "start_time": "2022-11-05T19:24:44.536Z"
   },
   {
    "duration": 37,
    "start_time": "2022-11-05T19:24:45.872Z"
   },
   {
    "duration": 8,
    "start_time": "2022-11-05T19:24:46.835Z"
   },
   {
    "duration": 4,
    "start_time": "2022-11-05T19:24:48.377Z"
   },
   {
    "duration": 11,
    "start_time": "2022-11-05T19:24:49.942Z"
   },
   {
    "duration": 19,
    "start_time": "2022-11-05T19:24:50.463Z"
   },
   {
    "duration": 39,
    "start_time": "2022-11-05T19:24:51.486Z"
   },
   {
    "duration": 3,
    "start_time": "2022-11-05T19:24:53.517Z"
   },
   {
    "duration": 10,
    "start_time": "2022-11-05T19:24:54.099Z"
   },
   {
    "duration": 5,
    "start_time": "2022-11-05T19:24:55.082Z"
   },
   {
    "duration": 199,
    "start_time": "2022-11-05T19:24:56.082Z"
   },
   {
    "duration": 8,
    "start_time": "2022-11-05T19:25:24.454Z"
   },
   {
    "duration": 7,
    "start_time": "2022-11-05T19:25:32.271Z"
   },
   {
    "duration": 9,
    "start_time": "2022-11-05T19:25:55.696Z"
   },
   {
    "duration": 21,
    "start_time": "2022-11-05T19:26:06.159Z"
   },
   {
    "duration": 20,
    "start_time": "2022-11-05T19:26:12.532Z"
   },
   {
    "duration": 19,
    "start_time": "2022-11-05T19:26:18.208Z"
   },
   {
    "duration": 2,
    "start_time": "2022-11-05T19:26:19.622Z"
   },
   {
    "duration": 22,
    "start_time": "2022-11-05T19:26:22.762Z"
   },
   {
    "duration": 29,
    "start_time": "2022-11-05T19:26:40.000Z"
   },
   {
    "duration": 28,
    "start_time": "2022-11-05T19:26:48.964Z"
   },
   {
    "duration": 2,
    "start_time": "2022-11-05T19:26:49.866Z"
   },
   {
    "duration": 28,
    "start_time": "2022-11-05T19:26:56.040Z"
   },
   {
    "duration": 70,
    "start_time": "2022-11-05T19:27:16.636Z"
   },
   {
    "duration": 2,
    "start_time": "2022-11-05T19:27:18.437Z"
   },
   {
    "duration": 33,
    "start_time": "2022-11-05T19:27:30.240Z"
   },
   {
    "duration": 33,
    "start_time": "2022-11-05T19:27:47.402Z"
   },
   {
    "duration": 45,
    "start_time": "2022-11-05T19:28:12.710Z"
   },
   {
    "duration": 32,
    "start_time": "2022-11-05T19:28:29.247Z"
   },
   {
    "duration": 38,
    "start_time": "2022-11-05T19:28:48.097Z"
   },
   {
    "duration": 21,
    "start_time": "2022-11-05T19:29:17.250Z"
   },
   {
    "duration": 45,
    "start_time": "2022-11-05T19:30:03.694Z"
   },
   {
    "duration": 8,
    "start_time": "2022-11-05T19:30:09.587Z"
   },
   {
    "duration": 32,
    "start_time": "2022-11-05T19:30:22.564Z"
   },
   {
    "duration": 174,
    "start_time": "2022-11-05T19:31:23.931Z"
   },
   {
    "duration": 271,
    "start_time": "2022-11-05T19:31:42.603Z"
   },
   {
    "duration": 45,
    "start_time": "2022-11-05T19:32:07.697Z"
   },
   {
    "duration": 35,
    "start_time": "2022-11-05T19:32:16.688Z"
   },
   {
    "duration": 31,
    "start_time": "2022-11-05T19:32:50.052Z"
   },
   {
    "duration": 36,
    "start_time": "2022-11-05T19:33:22.932Z"
   },
   {
    "duration": 186,
    "start_time": "2022-11-05T19:33:36.947Z"
   },
   {
    "duration": 46,
    "start_time": "2022-11-05T19:35:51.093Z"
   },
   {
    "duration": 44,
    "start_time": "2022-11-05T19:35:56.759Z"
   },
   {
    "duration": 42,
    "start_time": "2022-11-05T19:36:03.963Z"
   },
   {
    "duration": 67,
    "start_time": "2022-11-05T19:36:28.106Z"
   },
   {
    "duration": 52,
    "start_time": "2022-11-05T19:36:32.717Z"
   },
   {
    "duration": 3358,
    "start_time": "2022-11-05T19:36:42.113Z"
   },
   {
    "duration": 29,
    "start_time": "2022-11-05T19:47:04.077Z"
   },
   {
    "duration": 2,
    "start_time": "2022-11-05T19:47:06.539Z"
   },
   {
    "duration": 34,
    "start_time": "2022-11-05T19:47:12.875Z"
   },
   {
    "duration": 12,
    "start_time": "2022-11-05T19:51:27.277Z"
   },
   {
    "duration": 12,
    "start_time": "2022-11-05T19:51:38.183Z"
   },
   {
    "duration": 2,
    "start_time": "2022-11-05T19:51:39.308Z"
   },
   {
    "duration": 11,
    "start_time": "2022-11-05T19:52:10.912Z"
   },
   {
    "duration": 11,
    "start_time": "2022-11-05T19:52:18.188Z"
   },
   {
    "duration": 3,
    "start_time": "2022-11-05T19:52:19.054Z"
   },
   {
    "duration": 11,
    "start_time": "2022-11-05T19:52:27.116Z"
   },
   {
    "duration": 45,
    "start_time": "2022-11-05T19:52:35.603Z"
   },
   {
    "duration": 40,
    "start_time": "2022-11-05T19:56:19.851Z"
   },
   {
    "duration": 196,
    "start_time": "2022-11-05T19:56:29.236Z"
   },
   {
    "duration": 290,
    "start_time": "2022-11-05T19:57:28.730Z"
   },
   {
    "duration": 176,
    "start_time": "2022-11-05T19:58:13.073Z"
   },
   {
    "duration": 176,
    "start_time": "2022-11-05T19:58:51.035Z"
   },
   {
    "duration": 64,
    "start_time": "2022-11-05T19:59:10.495Z"
   },
   {
    "duration": 82,
    "start_time": "2022-11-05T19:59:16.350Z"
   },
   {
    "duration": 175,
    "start_time": "2022-11-05T19:59:33.559Z"
   },
   {
    "duration": 245,
    "start_time": "2022-11-05T20:00:20.276Z"
   },
   {
    "duration": 185,
    "start_time": "2022-11-05T20:00:42.552Z"
   },
   {
    "duration": 62,
    "start_time": "2022-11-05T20:32:50.574Z"
   },
   {
    "duration": 10,
    "start_time": "2022-11-05T20:32:55.532Z"
   },
   {
    "duration": 9,
    "start_time": "2022-11-05T20:33:01.458Z"
   },
   {
    "duration": 44,
    "start_time": "2022-11-05T20:35:36.507Z"
   },
   {
    "duration": 193,
    "start_time": "2022-11-05T20:35:44.446Z"
   },
   {
    "duration": 182,
    "start_time": "2022-11-05T20:35:52.071Z"
   },
   {
    "duration": 164,
    "start_time": "2022-11-05T20:36:37.476Z"
   },
   {
    "duration": 179,
    "start_time": "2022-11-05T20:36:50.992Z"
   },
   {
    "duration": 3,
    "start_time": "2022-11-05T20:36:52.437Z"
   },
   {
    "duration": 185,
    "start_time": "2022-11-05T20:36:56.324Z"
   },
   {
    "duration": 193,
    "start_time": "2022-11-05T20:38:09.276Z"
   },
   {
    "duration": 50,
    "start_time": "2022-11-05T20:38:18.590Z"
   },
   {
    "duration": 177,
    "start_time": "2022-11-05T20:38:28.657Z"
   },
   {
    "duration": 48,
    "start_time": "2022-11-05T20:43:14.278Z"
   },
   {
    "duration": 175,
    "start_time": "2022-11-05T20:43:18.657Z"
   },
   {
    "duration": 182,
    "start_time": "2022-11-05T20:43:36.650Z"
   },
   {
    "duration": 52,
    "start_time": "2022-11-05T20:51:14.755Z"
   },
   {
    "duration": 689,
    "start_time": "2022-11-06T06:17:33.665Z"
   },
   {
    "duration": 662,
    "start_time": "2022-11-06T06:18:09.427Z"
   },
   {
    "duration": 665,
    "start_time": "2022-11-06T06:19:19.703Z"
   },
   {
    "duration": 8,
    "start_time": "2022-11-06T06:21:21.570Z"
   },
   {
    "duration": 9,
    "start_time": "2022-11-06T06:21:48.986Z"
   },
   {
    "duration": 8,
    "start_time": "2022-11-06T06:23:07.502Z"
   },
   {
    "duration": 3,
    "start_time": "2022-11-06T06:45:31.754Z"
   },
   {
    "duration": 196,
    "start_time": "2022-11-06T06:47:05.087Z"
   },
   {
    "duration": 10,
    "start_time": "2022-11-06T06:48:09.524Z"
   },
   {
    "duration": 3,
    "start_time": "2022-11-06T06:48:31.316Z"
   },
   {
    "duration": 8,
    "start_time": "2022-11-06T06:48:33.215Z"
   },
   {
    "duration": 8,
    "start_time": "2022-11-06T06:49:07.995Z"
   },
   {
    "duration": 52,
    "start_time": "2022-11-06T06:50:35.999Z"
   },
   {
    "duration": 43,
    "start_time": "2022-11-06T06:50:51.759Z"
   },
   {
    "duration": 46,
    "start_time": "2022-11-06T06:51:05.888Z"
   },
   {
    "duration": 194,
    "start_time": "2022-11-06T06:51:12.231Z"
   },
   {
    "duration": 177,
    "start_time": "2022-11-06T06:51:31.152Z"
   },
   {
    "duration": 9,
    "start_time": "2022-11-06T06:51:37.802Z"
   },
   {
    "duration": 3,
    "start_time": "2022-11-06T06:51:44.876Z"
   },
   {
    "duration": 9,
    "start_time": "2022-11-06T06:51:45.909Z"
   },
   {
    "duration": 3,
    "start_time": "2022-11-06T06:51:56.746Z"
   },
   {
    "duration": 3,
    "start_time": "2022-11-06T06:52:09.104Z"
   },
   {
    "duration": 9,
    "start_time": "2022-11-06T06:52:10.421Z"
   },
   {
    "duration": 3,
    "start_time": "2022-11-06T06:52:17.398Z"
   },
   {
    "duration": 9,
    "start_time": "2022-11-06T06:52:18.181Z"
   },
   {
    "duration": 3,
    "start_time": "2022-11-06T06:53:03.984Z"
   },
   {
    "duration": 61,
    "start_time": "2022-11-06T06:53:04.680Z"
   },
   {
    "duration": 3,
    "start_time": "2022-11-06T07:06:12.068Z"
   },
   {
    "duration": 8,
    "start_time": "2022-11-06T07:06:12.560Z"
   },
   {
    "duration": 8,
    "start_time": "2022-11-06T07:06:16.096Z"
   },
   {
    "duration": 4,
    "start_time": "2022-11-06T07:07:18.810Z"
   },
   {
    "duration": 17,
    "start_time": "2022-11-06T07:07:19.312Z"
   },
   {
    "duration": 3,
    "start_time": "2022-11-06T07:07:36.623Z"
   },
   {
    "duration": 16,
    "start_time": "2022-11-06T07:07:37.527Z"
   },
   {
    "duration": 3,
    "start_time": "2022-11-06T07:07:49.867Z"
   },
   {
    "duration": 8,
    "start_time": "2022-11-06T07:07:51.610Z"
   },
   {
    "duration": 3,
    "start_time": "2022-11-06T07:08:03.318Z"
   },
   {
    "duration": 15,
    "start_time": "2022-11-06T07:08:03.733Z"
   },
   {
    "duration": 3,
    "start_time": "2022-11-06T07:08:11.089Z"
   },
   {
    "duration": 9,
    "start_time": "2022-11-06T07:08:11.610Z"
   },
   {
    "duration": 3,
    "start_time": "2022-11-06T07:08:52.820Z"
   },
   {
    "duration": 10,
    "start_time": "2022-11-06T07:08:53.323Z"
   },
   {
    "duration": 3,
    "start_time": "2022-11-06T07:09:28.967Z"
   },
   {
    "duration": 9,
    "start_time": "2022-11-06T07:09:30.206Z"
   },
   {
    "duration": 3,
    "start_time": "2022-11-06T07:09:44.626Z"
   },
   {
    "duration": 8,
    "start_time": "2022-11-06T07:09:44.960Z"
   },
   {
    "duration": 4,
    "start_time": "2022-11-06T07:10:42.165Z"
   },
   {
    "duration": 256,
    "start_time": "2022-11-06T07:10:42.637Z"
   },
   {
    "duration": 3,
    "start_time": "2022-11-06T07:10:52.500Z"
   },
   {
    "duration": 62,
    "start_time": "2022-11-06T07:10:53.054Z"
   },
   {
    "duration": 59,
    "start_time": "2022-11-06T07:12:35.246Z"
   },
   {
    "duration": 59,
    "start_time": "2022-11-06T07:12:35.733Z"
   },
   {
    "duration": 57,
    "start_time": "2022-11-06T07:12:47.034Z"
   },
   {
    "duration": 58,
    "start_time": "2022-11-06T07:12:47.641Z"
   },
   {
    "duration": 86,
    "start_time": "2022-11-06T07:13:02.583Z"
   },
   {
    "duration": 58,
    "start_time": "2022-11-06T07:13:03.324Z"
   },
   {
    "duration": 48,
    "start_time": "2022-11-06T07:15:23.136Z"
   },
   {
    "duration": 58,
    "start_time": "2022-11-06T07:15:23.849Z"
   },
   {
    "duration": 69,
    "start_time": "2022-11-06T07:15:30.960Z"
   },
   {
    "duration": 58,
    "start_time": "2022-11-06T07:15:31.678Z"
   },
   {
    "duration": 45,
    "start_time": "2022-11-06T07:15:41.718Z"
   },
   {
    "duration": 58,
    "start_time": "2022-11-06T07:15:42.305Z"
   },
   {
    "duration": 4,
    "start_time": "2022-11-06T07:15:56.201Z"
   },
   {
    "duration": 15,
    "start_time": "2022-11-06T07:15:56.760Z"
   },
   {
    "duration": 3,
    "start_time": "2022-11-06T07:21:14.658Z"
   },
   {
    "duration": 12,
    "start_time": "2022-11-06T07:21:16.294Z"
   },
   {
    "duration": 4,
    "start_time": "2022-11-06T07:23:12.843Z"
   },
   {
    "duration": 690,
    "start_time": "2022-11-06T07:23:13.399Z"
   },
   {
    "duration": 3,
    "start_time": "2022-11-06T07:23:43.770Z"
   },
   {
    "duration": 646,
    "start_time": "2022-11-06T07:23:44.316Z"
   },
   {
    "duration": 4,
    "start_time": "2022-11-06T07:25:50.207Z"
   },
   {
    "duration": 649,
    "start_time": "2022-11-06T07:25:50.678Z"
   },
   {
    "duration": 3,
    "start_time": "2022-11-06T07:26:15.293Z"
   },
   {
    "duration": 10,
    "start_time": "2022-11-06T07:26:15.879Z"
   },
   {
    "duration": 11,
    "start_time": "2022-11-06T07:27:24.340Z"
   },
   {
    "duration": 5,
    "start_time": "2022-11-06T07:29:13.542Z"
   },
   {
    "duration": 200,
    "start_time": "2022-11-06T07:29:14.019Z"
   },
   {
    "duration": 5,
    "start_time": "2022-11-06T07:29:37.976Z"
   },
   {
    "duration": 165,
    "start_time": "2022-11-06T07:29:38.578Z"
   },
   {
    "duration": 3,
    "start_time": "2022-11-06T07:29:49.494Z"
   },
   {
    "duration": 200,
    "start_time": "2022-11-06T07:29:50.059Z"
   },
   {
    "duration": 4,
    "start_time": "2022-11-06T07:30:18.063Z"
   },
   {
    "duration": 193,
    "start_time": "2022-11-06T07:30:18.545Z"
   },
   {
    "duration": 4,
    "start_time": "2022-11-06T07:30:45.570Z"
   },
   {
    "duration": 198,
    "start_time": "2022-11-06T07:30:46.079Z"
   },
   {
    "duration": 52,
    "start_time": "2022-11-06T07:31:04.408Z"
   },
   {
    "duration": 275,
    "start_time": "2022-11-06T07:31:05.058Z"
   },
   {
    "duration": 3,
    "start_time": "2022-11-06T07:31:15.266Z"
   },
   {
    "duration": 182,
    "start_time": "2022-11-06T07:31:15.954Z"
   },
   {
    "duration": 4,
    "start_time": "2022-11-06T07:31:47.475Z"
   },
   {
    "duration": 185,
    "start_time": "2022-11-06T07:31:48.048Z"
   },
   {
    "duration": 3,
    "start_time": "2022-11-06T07:32:01.897Z"
   },
   {
    "duration": 176,
    "start_time": "2022-11-06T07:32:02.517Z"
   },
   {
    "duration": 3,
    "start_time": "2022-11-06T07:36:40.773Z"
   },
   {
    "duration": 12,
    "start_time": "2022-11-06T07:36:41.342Z"
   },
   {
    "duration": 53,
    "start_time": "2022-11-06T07:37:02.626Z"
   },
   {
    "duration": 11,
    "start_time": "2022-11-06T07:37:04.029Z"
   },
   {
    "duration": 3,
    "start_time": "2022-11-06T07:37:20.008Z"
   },
   {
    "duration": 10,
    "start_time": "2022-11-06T07:37:20.568Z"
   },
   {
    "duration": 17,
    "start_time": "2022-11-06T07:37:36.809Z"
   },
   {
    "duration": 15,
    "start_time": "2022-11-06T07:37:45.941Z"
   },
   {
    "duration": 11,
    "start_time": "2022-11-06T07:38:06.724Z"
   },
   {
    "duration": 5,
    "start_time": "2022-11-06T07:38:39.058Z"
   },
   {
    "duration": 11,
    "start_time": "2022-11-06T07:38:39.564Z"
   },
   {
    "duration": 4,
    "start_time": "2022-11-06T07:38:45.575Z"
   },
   {
    "duration": 8,
    "start_time": "2022-11-06T07:38:46.154Z"
   },
   {
    "duration": 44,
    "start_time": "2022-11-06T07:40:01.388Z"
   },
   {
    "duration": 10,
    "start_time": "2022-11-06T07:40:02.289Z"
   },
   {
    "duration": 64,
    "start_time": "2022-11-06T07:40:08.802Z"
   },
   {
    "duration": 10,
    "start_time": "2022-11-06T07:40:09.503Z"
   },
   {
    "duration": 4,
    "start_time": "2022-11-06T07:40:24.630Z"
   },
   {
    "duration": 16,
    "start_time": "2022-11-06T07:40:25.203Z"
   },
   {
    "duration": 4,
    "start_time": "2022-11-06T07:40:30.224Z"
   },
   {
    "duration": 9,
    "start_time": "2022-11-06T07:40:30.742Z"
   },
   {
    "duration": 3,
    "start_time": "2022-11-06T07:40:58.702Z"
   },
   {
    "duration": 16,
    "start_time": "2022-11-06T07:40:59.362Z"
   },
   {
    "duration": 3,
    "start_time": "2022-11-06T07:41:14.655Z"
   },
   {
    "duration": 17,
    "start_time": "2022-11-06T07:41:15.261Z"
   },
   {
    "duration": 4,
    "start_time": "2022-11-06T07:41:35.522Z"
   },
   {
    "duration": 173,
    "start_time": "2022-11-06T07:41:36.118Z"
   },
   {
    "duration": 3,
    "start_time": "2022-11-06T07:41:48.910Z"
   },
   {
    "duration": 28,
    "start_time": "2022-11-06T07:41:49.712Z"
   },
   {
    "duration": 3,
    "start_time": "2022-11-06T07:43:22.357Z"
   },
   {
    "duration": 213,
    "start_time": "2022-11-06T07:43:22.783Z"
   },
   {
    "duration": 4,
    "start_time": "2022-11-06T07:43:27.946Z"
   },
   {
    "duration": 13,
    "start_time": "2022-11-06T07:43:28.578Z"
   },
   {
    "duration": 5,
    "start_time": "2022-11-06T07:43:44.150Z"
   },
   {
    "duration": 34,
    "start_time": "2022-11-06T07:43:44.647Z"
   },
   {
    "duration": 4,
    "start_time": "2022-11-06T07:47:25.820Z"
   },
   {
    "duration": 190,
    "start_time": "2022-11-06T07:47:26.161Z"
   },
   {
    "duration": 4,
    "start_time": "2022-11-06T07:49:01.656Z"
   },
   {
    "duration": 197,
    "start_time": "2022-11-06T07:49:02.230Z"
   },
   {
    "duration": 4,
    "start_time": "2022-11-06T07:49:16.284Z"
   },
   {
    "duration": 11,
    "start_time": "2022-11-06T07:49:16.785Z"
   },
   {
    "duration": 3,
    "start_time": "2022-11-06T07:49:28.764Z"
   },
   {
    "duration": 178,
    "start_time": "2022-11-06T07:49:29.345Z"
   },
   {
    "duration": 4,
    "start_time": "2022-11-06T07:49:35.031Z"
   },
   {
    "duration": 34,
    "start_time": "2022-11-06T07:49:35.560Z"
   },
   {
    "duration": 4,
    "start_time": "2022-11-06T07:49:42.341Z"
   },
   {
    "duration": 11,
    "start_time": "2022-11-06T07:49:42.792Z"
   },
   {
    "duration": 64,
    "start_time": "2022-11-06T07:50:52.448Z"
   },
   {
    "duration": 10,
    "start_time": "2022-11-06T07:50:52.877Z"
   },
   {
    "duration": 42,
    "start_time": "2022-11-06T07:51:08.017Z"
   },
   {
    "duration": 10,
    "start_time": "2022-11-06T07:51:08.486Z"
   },
   {
    "duration": 4,
    "start_time": "2022-11-06T07:51:16.926Z"
   },
   {
    "duration": 179,
    "start_time": "2022-11-06T07:51:17.216Z"
   },
   {
    "duration": 3,
    "start_time": "2022-11-06T07:51:34.827Z"
   },
   {
    "duration": 10,
    "start_time": "2022-11-06T07:51:35.272Z"
   },
   {
    "duration": 4,
    "start_time": "2022-11-06T07:52:16.189Z"
   },
   {
    "duration": 176,
    "start_time": "2022-11-06T07:52:16.470Z"
   },
   {
    "duration": 47,
    "start_time": "2022-11-06T07:52:45.068Z"
   },
   {
    "duration": 170,
    "start_time": "2022-11-06T07:52:45.957Z"
   },
   {
    "duration": 44,
    "start_time": "2022-11-06T07:52:51.227Z"
   },
   {
    "duration": 172,
    "start_time": "2022-11-06T07:52:51.860Z"
   },
   {
    "duration": 40,
    "start_time": "2022-11-06T07:53:04.433Z"
   },
   {
    "duration": 322,
    "start_time": "2022-11-06T07:53:04.897Z"
   },
   {
    "duration": 55,
    "start_time": "2022-11-06T07:53:13.604Z"
   },
   {
    "duration": 177,
    "start_time": "2022-11-06T07:53:14.690Z"
   },
   {
    "duration": 42,
    "start_time": "2022-11-06T07:53:25.858Z"
   },
   {
    "duration": 175,
    "start_time": "2022-11-06T07:53:26.284Z"
   },
   {
    "duration": 48,
    "start_time": "2022-11-06T07:54:00.066Z"
   },
   {
    "duration": 193,
    "start_time": "2022-11-06T07:54:00.485Z"
   },
   {
    "duration": 42,
    "start_time": "2022-11-06T07:54:29.501Z"
   },
   {
    "duration": 286,
    "start_time": "2022-11-06T07:54:29.981Z"
   },
   {
    "duration": 2,
    "start_time": "2022-11-06T07:54:47.639Z"
   },
   {
    "duration": 34,
    "start_time": "2022-11-06T07:54:48.075Z"
   },
   {
    "duration": 61,
    "start_time": "2022-11-06T07:54:57.790Z"
   },
   {
    "duration": 31,
    "start_time": "2022-11-06T07:54:58.268Z"
   },
   {
    "duration": 3,
    "start_time": "2022-11-06T07:55:09.520Z"
   },
   {
    "duration": 11,
    "start_time": "2022-11-06T07:55:09.998Z"
   },
   {
    "duration": 4,
    "start_time": "2022-11-06T07:55:18.930Z"
   },
   {
    "duration": 181,
    "start_time": "2022-11-06T07:55:19.401Z"
   },
   {
    "duration": 4,
    "start_time": "2022-11-06T07:55:30.401Z"
   },
   {
    "duration": 11,
    "start_time": "2022-11-06T07:55:30.966Z"
   },
   {
    "duration": 46,
    "start_time": "2022-11-06T19:29:12.762Z"
   },
   {
    "duration": 42,
    "start_time": "2022-11-06T19:29:15.753Z"
   },
   {
    "duration": 409,
    "start_time": "2022-11-06T19:30:04.084Z"
   },
   {
    "duration": 305,
    "start_time": "2022-11-06T19:30:04.793Z"
   },
   {
    "duration": 11,
    "start_time": "2022-11-06T19:30:05.887Z"
   },
   {
    "duration": 17,
    "start_time": "2022-11-06T19:30:07.041Z"
   },
   {
    "duration": 8,
    "start_time": "2022-11-06T19:30:09.166Z"
   },
   {
    "duration": 42,
    "start_time": "2022-11-06T19:30:10.168Z"
   },
   {
    "duration": 4,
    "start_time": "2022-11-06T19:30:11.659Z"
   },
   {
    "duration": 8,
    "start_time": "2022-11-06T19:30:12.634Z"
   },
   {
    "duration": 3,
    "start_time": "2022-11-06T19:30:14.086Z"
   },
   {
    "duration": 9,
    "start_time": "2022-11-06T19:30:15.069Z"
   },
   {
    "duration": 4,
    "start_time": "2022-11-06T19:30:16.065Z"
   },
   {
    "duration": 36,
    "start_time": "2022-11-06T19:30:17.809Z"
   },
   {
    "duration": 8,
    "start_time": "2022-11-06T19:30:18.824Z"
   },
   {
    "duration": 3,
    "start_time": "2022-11-06T19:30:20.471Z"
   },
   {
    "duration": 10,
    "start_time": "2022-11-06T19:30:21.931Z"
   },
   {
    "duration": 19,
    "start_time": "2022-11-06T19:30:22.419Z"
   },
   {
    "duration": 37,
    "start_time": "2022-11-06T19:30:23.442Z"
   },
   {
    "duration": 4,
    "start_time": "2022-11-06T19:30:25.007Z"
   },
   {
    "duration": 12,
    "start_time": "2022-11-06T19:30:25.694Z"
   },
   {
    "duration": 5,
    "start_time": "2022-11-06T19:30:26.856Z"
   },
   {
    "duration": 47,
    "start_time": "2022-11-06T19:30:28.006Z"
   },
   {
    "duration": 3,
    "start_time": "2022-11-06T19:33:50.215Z"
   },
   {
    "duration": 205,
    "start_time": "2022-11-06T19:33:51.018Z"
   },
   {
    "duration": 2,
    "start_time": "2022-11-06T19:35:58.369Z"
   },
   {
    "duration": 8,
    "start_time": "2022-11-06T19:35:59.070Z"
   },
   {
    "duration": 4,
    "start_time": "2022-11-06T20:01:46.895Z"
   },
   {
    "duration": 8,
    "start_time": "2022-11-06T20:01:47.566Z"
   },
   {
    "duration": 7,
    "start_time": "2022-11-06T20:02:31.775Z"
   },
   {
    "duration": 2,
    "start_time": "2022-11-06T20:04:03.306Z"
   },
   {
    "duration": 68,
    "start_time": "2022-11-06T20:04:03.954Z"
   },
   {
    "duration": 8,
    "start_time": "2022-11-06T20:04:04.971Z"
   },
   {
    "duration": 14,
    "start_time": "2022-11-06T20:04:05.935Z"
   },
   {
    "duration": 8,
    "start_time": "2022-11-06T20:04:07.902Z"
   },
   {
    "duration": 37,
    "start_time": "2022-11-06T20:04:08.914Z"
   },
   {
    "duration": 3,
    "start_time": "2022-11-06T20:04:10.362Z"
   },
   {
    "duration": 10,
    "start_time": "2022-11-06T20:04:11.391Z"
   },
   {
    "duration": 4,
    "start_time": "2022-11-06T20:04:12.945Z"
   },
   {
    "duration": 8,
    "start_time": "2022-11-06T20:04:13.970Z"
   },
   {
    "duration": 3,
    "start_time": "2022-11-06T20:04:14.993Z"
   },
   {
    "duration": 38,
    "start_time": "2022-11-06T20:04:16.490Z"
   },
   {
    "duration": 8,
    "start_time": "2022-11-06T20:04:17.470Z"
   },
   {
    "duration": 4,
    "start_time": "2022-11-06T20:04:19.099Z"
   },
   {
    "duration": 10,
    "start_time": "2022-11-06T20:04:20.627Z"
   },
   {
    "duration": 19,
    "start_time": "2022-11-06T20:04:21.132Z"
   },
   {
    "duration": 29,
    "start_time": "2022-11-06T20:04:22.153Z"
   },
   {
    "duration": 5,
    "start_time": "2022-11-06T20:04:23.634Z"
   },
   {
    "duration": 12,
    "start_time": "2022-11-06T20:04:24.168Z"
   },
   {
    "duration": 5,
    "start_time": "2022-11-06T20:04:25.205Z"
   },
   {
    "duration": 4,
    "start_time": "2022-11-06T20:04:26.201Z"
   },
   {
    "duration": 7,
    "start_time": "2022-11-06T20:04:26.898Z"
   },
   {
    "duration": 3,
    "start_time": "2022-11-06T20:26:00.145Z"
   },
   {
    "duration": 7,
    "start_time": "2022-11-06T20:26:02.876Z"
   },
   {
    "duration": 3,
    "start_time": "2022-11-06T20:26:29.799Z"
   },
   {
    "duration": 8,
    "start_time": "2022-11-06T20:36:35.654Z"
   },
   {
    "duration": 11,
    "start_time": "2022-11-06T20:37:27.321Z"
   },
   {
    "duration": 212,
    "start_time": "2022-11-06T20:38:37.469Z"
   },
   {
    "duration": 9,
    "start_time": "2022-11-06T20:38:44.004Z"
   },
   {
    "duration": 10,
    "start_time": "2022-11-06T20:39:46.923Z"
   },
   {
    "duration": 9,
    "start_time": "2022-11-06T20:39:51.128Z"
   },
   {
    "duration": 42,
    "start_time": "2022-11-06T20:40:16.097Z"
   },
   {
    "duration": 15,
    "start_time": "2022-11-06T20:40:20.567Z"
   },
   {
    "duration": 4,
    "start_time": "2022-11-06T20:40:44.992Z"
   },
   {
    "duration": 13,
    "start_time": "2022-11-06T20:40:48.637Z"
   },
   {
    "duration": 14,
    "start_time": "2022-11-06T20:41:07.470Z"
   },
   {
    "duration": 11,
    "start_time": "2022-11-06T20:41:26.222Z"
   },
   {
    "duration": 13,
    "start_time": "2022-11-06T20:42:31.575Z"
   },
   {
    "duration": 9,
    "start_time": "2022-11-06T20:42:46.646Z"
   },
   {
    "duration": 14,
    "start_time": "2022-11-06T20:43:10.810Z"
   },
   {
    "duration": 12,
    "start_time": "2022-11-06T20:43:30.480Z"
   },
   {
    "duration": 13,
    "start_time": "2022-11-06T20:43:37.567Z"
   },
   {
    "duration": 3,
    "start_time": "2022-11-06T20:43:41.142Z"
   },
   {
    "duration": 13,
    "start_time": "2022-11-06T20:43:41.822Z"
   },
   {
    "duration": 11,
    "start_time": "2022-11-06T20:43:55.408Z"
   },
   {
    "duration": 12,
    "start_time": "2022-11-06T20:44:20.742Z"
   },
   {
    "duration": 10,
    "start_time": "2022-11-06T20:44:31.269Z"
   },
   {
    "duration": 10,
    "start_time": "2022-11-06T20:45:21.507Z"
   },
   {
    "duration": 3,
    "start_time": "2022-11-06T20:45:32.170Z"
   },
   {
    "duration": 10,
    "start_time": "2022-11-06T20:45:32.825Z"
   },
   {
    "duration": 3,
    "start_time": "2022-11-06T20:45:58.325Z"
   },
   {
    "duration": 10,
    "start_time": "2022-11-06T20:45:59.118Z"
   },
   {
    "duration": 3,
    "start_time": "2022-11-06T20:46:21.476Z"
   },
   {
    "duration": 65,
    "start_time": "2022-11-06T20:46:21.777Z"
   },
   {
    "duration": 9,
    "start_time": "2022-11-06T20:46:22.392Z"
   },
   {
    "duration": 14,
    "start_time": "2022-11-06T20:46:23.027Z"
   },
   {
    "duration": 8,
    "start_time": "2022-11-06T20:46:24.332Z"
   },
   {
    "duration": 40,
    "start_time": "2022-11-06T20:46:24.949Z"
   },
   {
    "duration": 4,
    "start_time": "2022-11-06T20:46:25.884Z"
   },
   {
    "duration": 8,
    "start_time": "2022-11-06T20:46:26.589Z"
   },
   {
    "duration": 3,
    "start_time": "2022-11-06T20:46:27.597Z"
   },
   {
    "duration": 7,
    "start_time": "2022-11-06T20:46:28.201Z"
   },
   {
    "duration": 4,
    "start_time": "2022-11-06T20:46:28.953Z"
   },
   {
    "duration": 36,
    "start_time": "2022-11-06T20:46:29.961Z"
   },
   {
    "duration": 9,
    "start_time": "2022-11-06T20:46:30.737Z"
   },
   {
    "duration": 3,
    "start_time": "2022-11-06T20:46:31.739Z"
   },
   {
    "duration": 11,
    "start_time": "2022-11-06T20:46:32.912Z"
   },
   {
    "duration": 20,
    "start_time": "2022-11-06T20:46:33.275Z"
   },
   {
    "duration": 29,
    "start_time": "2022-11-06T20:46:34.295Z"
   },
   {
    "duration": 3,
    "start_time": "2022-11-06T20:46:35.388Z"
   },
   {
    "duration": 9,
    "start_time": "2022-11-06T20:46:35.771Z"
   },
   {
    "duration": 5,
    "start_time": "2022-11-06T20:46:36.532Z"
   },
   {
    "duration": 3,
    "start_time": "2022-11-06T20:46:37.309Z"
   },
   {
    "duration": 11,
    "start_time": "2022-11-06T20:46:37.694Z"
   },
   {
    "duration": 11,
    "start_time": "2022-11-06T20:47:07.259Z"
   },
   {
    "duration": 11,
    "start_time": "2022-11-06T20:47:18.171Z"
   },
   {
    "duration": 12,
    "start_time": "2022-11-06T20:47:27.069Z"
   },
   {
    "duration": 10,
    "start_time": "2022-11-06T20:47:32.742Z"
   },
   {
    "duration": 10,
    "start_time": "2022-11-06T20:47:38.067Z"
   },
   {
    "duration": 3,
    "start_time": "2022-11-06T20:47:44.625Z"
   },
   {
    "duration": 10,
    "start_time": "2022-11-06T20:47:45.700Z"
   },
   {
    "duration": 3,
    "start_time": "2022-11-06T20:47:56.768Z"
   },
   {
    "duration": 9,
    "start_time": "2022-11-06T20:47:57.837Z"
   },
   {
    "duration": 3,
    "start_time": "2022-11-06T20:48:16.594Z"
   },
   {
    "duration": 10,
    "start_time": "2022-11-06T20:48:17.516Z"
   },
   {
    "duration": 7,
    "start_time": "2022-11-06T20:48:48.950Z"
   },
   {
    "duration": 8,
    "start_time": "2022-11-06T20:49:21.007Z"
   },
   {
    "duration": 4,
    "start_time": "2022-11-06T20:50:43.552Z"
   },
   {
    "duration": 7,
    "start_time": "2022-11-06T20:50:49.683Z"
   },
   {
    "duration": 8,
    "start_time": "2022-11-06T20:53:07.842Z"
   },
   {
    "duration": 7,
    "start_time": "2022-11-06T20:53:19.947Z"
   },
   {
    "duration": 8,
    "start_time": "2022-11-06T20:53:32.140Z"
   },
   {
    "duration": 8,
    "start_time": "2022-11-06T20:53:41.172Z"
   },
   {
    "duration": 7,
    "start_time": "2022-11-06T20:53:52.328Z"
   },
   {
    "duration": 7,
    "start_time": "2022-11-06T20:54:10.584Z"
   },
   {
    "duration": 3,
    "start_time": "2022-11-06T20:59:34.842Z"
   },
   {
    "duration": 7,
    "start_time": "2022-11-06T21:09:00.136Z"
   },
   {
    "duration": 3,
    "start_time": "2022-11-06T21:10:19.412Z"
   },
   {
    "duration": 7,
    "start_time": "2022-11-06T21:10:19.877Z"
   },
   {
    "duration": 162,
    "start_time": "2022-11-06T21:11:06.156Z"
   },
   {
    "duration": 6,
    "start_time": "2022-11-06T21:12:23.526Z"
   },
   {
    "duration": 4,
    "start_time": "2022-11-06T21:12:54.149Z"
   },
   {
    "duration": 7,
    "start_time": "2022-11-06T21:13:13.840Z"
   },
   {
    "duration": 6,
    "start_time": "2022-11-06T21:13:39.353Z"
   },
   {
    "duration": 7,
    "start_time": "2022-11-06T21:14:14.812Z"
   },
   {
    "duration": 7,
    "start_time": "2022-11-06T21:14:21.138Z"
   },
   {
    "duration": 12,
    "start_time": "2022-11-06T21:14:24.752Z"
   },
   {
    "duration": 4,
    "start_time": "2022-11-06T21:16:12.041Z"
   },
   {
    "duration": 3,
    "start_time": "2022-11-06T21:16:50.978Z"
   },
   {
    "duration": 7,
    "start_time": "2022-11-06T21:16:51.344Z"
   },
   {
    "duration": 3,
    "start_time": "2022-11-06T21:16:56.528Z"
   },
   {
    "duration": 3,
    "start_time": "2022-11-06T21:17:39.020Z"
   },
   {
    "duration": 7,
    "start_time": "2022-11-06T21:17:40.269Z"
   },
   {
    "duration": 4,
    "start_time": "2022-11-06T21:17:41.290Z"
   },
   {
    "duration": 5,
    "start_time": "2022-11-06T21:20:18.704Z"
   },
   {
    "duration": 3,
    "start_time": "2022-11-06T21:25:17.478Z"
   },
   {
    "duration": 7,
    "start_time": "2022-11-06T21:25:18.341Z"
   },
   {
    "duration": 6,
    "start_time": "2022-11-06T21:25:19.868Z"
   },
   {
    "duration": 6,
    "start_time": "2022-11-06T21:25:29.359Z"
   },
   {
    "duration": 6,
    "start_time": "2022-11-06T21:30:28.996Z"
   },
   {
    "duration": 9,
    "start_time": "2022-11-06T21:30:35.132Z"
   },
   {
    "duration": 4,
    "start_time": "2022-11-06T21:31:06.914Z"
   },
   {
    "duration": 8,
    "start_time": "2022-11-06T21:31:07.444Z"
   },
   {
    "duration": 6,
    "start_time": "2022-11-06T21:31:07.975Z"
   },
   {
    "duration": 38,
    "start_time": "2022-11-06T21:31:33.266Z"
   },
   {
    "duration": 8,
    "start_time": "2022-11-06T21:31:33.717Z"
   },
   {
    "duration": 5,
    "start_time": "2022-11-06T21:31:34.297Z"
   },
   {
    "duration": 41,
    "start_time": "2022-11-06T21:31:48.631Z"
   },
   {
    "duration": 8,
    "start_time": "2022-11-06T21:31:49.150Z"
   },
   {
    "duration": 6,
    "start_time": "2022-11-06T21:31:49.663Z"
   },
   {
    "duration": 47,
    "start_time": "2022-11-06T21:32:10.086Z"
   },
   {
    "duration": 8,
    "start_time": "2022-11-06T21:32:10.673Z"
   },
   {
    "duration": 5,
    "start_time": "2022-11-06T21:32:11.420Z"
   },
   {
    "duration": 4,
    "start_time": "2022-11-06T21:32:53.335Z"
   },
   {
    "duration": 7,
    "start_time": "2022-11-06T21:32:53.861Z"
   },
   {
    "duration": 5,
    "start_time": "2022-11-06T21:32:54.345Z"
   },
   {
    "duration": 48,
    "start_time": "2022-11-06T21:33:11.216Z"
   },
   {
    "duration": 7,
    "start_time": "2022-11-06T21:33:11.872Z"
   },
   {
    "duration": 40,
    "start_time": "2022-11-06T21:33:30.092Z"
   },
   {
    "duration": 7,
    "start_time": "2022-11-06T21:33:30.582Z"
   },
   {
    "duration": 7,
    "start_time": "2022-11-06T21:33:31.432Z"
   },
   {
    "duration": 40,
    "start_time": "2022-11-06T21:33:39.498Z"
   },
   {
    "duration": 6,
    "start_time": "2022-11-06T21:33:40.071Z"
   },
   {
    "duration": 46,
    "start_time": "2022-11-06T21:33:45.360Z"
   },
   {
    "duration": 39,
    "start_time": "2022-11-06T21:33:58.357Z"
   },
   {
    "duration": 7,
    "start_time": "2022-11-06T21:33:58.852Z"
   },
   {
    "duration": 5,
    "start_time": "2022-11-06T21:33:59.345Z"
   },
   {
    "duration": 48,
    "start_time": "2022-11-06T21:34:04.904Z"
   },
   {
    "duration": 9,
    "start_time": "2022-11-06T21:34:05.320Z"
   },
   {
    "duration": 5,
    "start_time": "2022-11-06T21:34:05.947Z"
   },
   {
    "duration": 46,
    "start_time": "2022-11-06T21:34:21.026Z"
   },
   {
    "duration": 7,
    "start_time": "2022-11-06T21:34:21.751Z"
   },
   {
    "duration": 5,
    "start_time": "2022-11-06T21:34:22.605Z"
   },
   {
    "duration": 47,
    "start_time": "2022-11-06T21:34:29.448Z"
   },
   {
    "duration": 7,
    "start_time": "2022-11-06T21:34:29.882Z"
   },
   {
    "duration": 5,
    "start_time": "2022-11-06T21:34:30.472Z"
   },
   {
    "duration": 4,
    "start_time": "2022-11-06T21:34:40.017Z"
   },
   {
    "duration": 8,
    "start_time": "2022-11-06T21:34:40.509Z"
   },
   {
    "duration": 5,
    "start_time": "2022-11-06T21:34:41.098Z"
   },
   {
    "duration": 58,
    "start_time": "2022-11-06T21:34:54.935Z"
   },
   {
    "duration": 7,
    "start_time": "2022-11-06T21:34:55.485Z"
   },
   {
    "duration": 49,
    "start_time": "2022-11-06T21:35:01.337Z"
   },
   {
    "duration": 8,
    "start_time": "2022-11-06T21:35:01.888Z"
   },
   {
    "duration": 5,
    "start_time": "2022-11-06T21:35:02.582Z"
   },
   {
    "duration": 43,
    "start_time": "2022-11-06T21:35:07.331Z"
   },
   {
    "duration": 7,
    "start_time": "2022-11-06T21:35:08.231Z"
   },
   {
    "duration": 40,
    "start_time": "2022-11-06T21:35:38.560Z"
   },
   {
    "duration": 7,
    "start_time": "2022-11-06T21:35:39.019Z"
   },
   {
    "duration": 5,
    "start_time": "2022-11-06T21:35:39.524Z"
   },
   {
    "duration": 3,
    "start_time": "2022-11-06T21:35:57.056Z"
   },
   {
    "duration": 8,
    "start_time": "2022-11-06T21:35:57.708Z"
   },
   {
    "duration": 5,
    "start_time": "2022-11-06T21:35:58.246Z"
   },
   {
    "duration": 3,
    "start_time": "2022-11-06T21:36:17.602Z"
   },
   {
    "duration": 8,
    "start_time": "2022-11-06T21:36:18.126Z"
   },
   {
    "duration": 5,
    "start_time": "2022-11-06T21:36:18.613Z"
   },
   {
    "duration": 3,
    "start_time": "2022-11-06T21:36:32.078Z"
   },
   {
    "duration": 3,
    "start_time": "2022-11-06T21:36:39.744Z"
   },
   {
    "duration": 7,
    "start_time": "2022-11-06T21:36:40.403Z"
   },
   {
    "duration": 6,
    "start_time": "2022-11-06T21:36:41.000Z"
   },
   {
    "duration": 3,
    "start_time": "2022-11-06T21:37:06.436Z"
   },
   {
    "duration": 8,
    "start_time": "2022-11-06T21:37:06.950Z"
   },
   {
    "duration": 6,
    "start_time": "2022-11-06T21:37:07.462Z"
   },
   {
    "duration": 4,
    "start_time": "2022-11-06T21:37:13.021Z"
   },
   {
    "duration": 7,
    "start_time": "2022-11-06T21:37:13.505Z"
   },
   {
    "duration": 5,
    "start_time": "2022-11-06T21:37:13.982Z"
   },
   {
    "duration": 3,
    "start_time": "2022-11-06T21:37:21.957Z"
   },
   {
    "duration": 7,
    "start_time": "2022-11-06T21:37:22.473Z"
   },
   {
    "duration": 5,
    "start_time": "2022-11-06T21:37:22.955Z"
   },
   {
    "duration": 46,
    "start_time": "2022-11-06T21:38:16.837Z"
   },
   {
    "duration": 7,
    "start_time": "2022-11-06T21:38:17.397Z"
   },
   {
    "duration": 5,
    "start_time": "2022-11-06T21:38:18.228Z"
   },
   {
    "duration": 42,
    "start_time": "2022-11-06T21:38:35.549Z"
   },
   {
    "duration": 95,
    "start_time": "2022-11-06T21:38:45.523Z"
   },
   {
    "duration": 54,
    "start_time": "2022-11-06T21:42:34.418Z"
   },
   {
    "duration": 7,
    "start_time": "2022-11-06T21:42:34.949Z"
   },
   {
    "duration": 5,
    "start_time": "2022-11-06T21:42:35.567Z"
   },
   {
    "duration": 47,
    "start_time": "2022-11-06T21:42:52.222Z"
   },
   {
    "duration": 7,
    "start_time": "2022-11-06T21:42:52.810Z"
   },
   {
    "duration": 48,
    "start_time": "2022-11-06T21:43:05.102Z"
   },
   {
    "duration": 134,
    "start_time": "2022-11-06T21:43:30.139Z"
   },
   {
    "duration": 42,
    "start_time": "2022-11-06T21:43:50.950Z"
   },
   {
    "duration": 7,
    "start_time": "2022-11-06T21:43:51.442Z"
   },
   {
    "duration": 6,
    "start_time": "2022-11-06T21:43:53.366Z"
   },
   {
    "duration": 3,
    "start_time": "2022-11-06T21:44:29.315Z"
   },
   {
    "duration": 7,
    "start_time": "2022-11-06T21:44:30.028Z"
   },
   {
    "duration": 7,
    "start_time": "2022-11-06T21:44:30.646Z"
   },
   {
    "duration": 47,
    "start_time": "2022-11-06T21:44:46.052Z"
   },
   {
    "duration": 8,
    "start_time": "2022-11-06T21:44:46.691Z"
   },
   {
    "duration": 6,
    "start_time": "2022-11-06T21:44:47.344Z"
   },
   {
    "duration": 3,
    "start_time": "2022-11-06T21:45:04.488Z"
   },
   {
    "duration": 8,
    "start_time": "2022-11-06T21:45:05.804Z"
   },
   {
    "duration": 6,
    "start_time": "2022-11-06T21:45:06.391Z"
   },
   {
    "duration": 4,
    "start_time": "2022-11-06T21:45:29.515Z"
   },
   {
    "duration": 8,
    "start_time": "2022-11-06T21:45:30.216Z"
   },
   {
    "duration": 6,
    "start_time": "2022-11-06T21:45:30.927Z"
   },
   {
    "duration": 4,
    "start_time": "2022-11-06T21:45:38.271Z"
   },
   {
    "duration": 8,
    "start_time": "2022-11-06T21:45:38.843Z"
   },
   {
    "duration": 5,
    "start_time": "2022-11-06T21:45:39.419Z"
   },
   {
    "duration": 41,
    "start_time": "2022-11-06T21:45:52.309Z"
   },
   {
    "duration": 3,
    "start_time": "2022-11-06T21:45:58.696Z"
   },
   {
    "duration": 8,
    "start_time": "2022-11-06T21:45:59.111Z"
   },
   {
    "duration": 5,
    "start_time": "2022-11-06T21:45:59.736Z"
   },
   {
    "duration": 4,
    "start_time": "2022-11-06T21:46:52.566Z"
   },
   {
    "duration": 8,
    "start_time": "2022-11-06T21:46:53.077Z"
   },
   {
    "duration": 5,
    "start_time": "2022-11-06T21:46:53.701Z"
   },
   {
    "duration": 42,
    "start_time": "2022-11-06T21:47:03.441Z"
   },
   {
    "duration": 52,
    "start_time": "2022-11-06T21:47:12.596Z"
   },
   {
    "duration": 3,
    "start_time": "2022-11-06T21:47:38.868Z"
   },
   {
    "duration": 7,
    "start_time": "2022-11-06T21:47:39.545Z"
   },
   {
    "duration": 7,
    "start_time": "2022-11-06T21:47:40.181Z"
   },
   {
    "duration": 4,
    "start_time": "2022-11-06T21:48:05.514Z"
   },
   {
    "duration": 8,
    "start_time": "2022-11-06T21:48:06.040Z"
   },
   {
    "duration": 6,
    "start_time": "2022-11-06T21:48:06.684Z"
   },
   {
    "duration": 44,
    "start_time": "2022-11-06T21:48:12.465Z"
   },
   {
    "duration": 3,
    "start_time": "2022-11-06T21:48:19.887Z"
   },
   {
    "duration": 9,
    "start_time": "2022-11-06T21:48:20.555Z"
   },
   {
    "duration": 5,
    "start_time": "2022-11-06T21:48:21.353Z"
   },
   {
    "duration": 3,
    "start_time": "2022-11-06T21:48:29.140Z"
   },
   {
    "duration": 8,
    "start_time": "2022-11-06T21:48:29.725Z"
   },
   {
    "duration": 5,
    "start_time": "2022-11-06T21:48:30.252Z"
   },
   {
    "duration": 45,
    "start_time": "2022-11-06T21:48:34.596Z"
   },
   {
    "duration": 8,
    "start_time": "2022-11-06T21:48:35.054Z"
   },
   {
    "duration": 6,
    "start_time": "2022-11-06T21:48:36.040Z"
   },
   {
    "duration": 3,
    "start_time": "2022-11-06T21:48:49.062Z"
   },
   {
    "duration": 8,
    "start_time": "2022-11-06T21:48:49.663Z"
   },
   {
    "duration": 6,
    "start_time": "2022-11-06T21:48:50.201Z"
   },
   {
    "duration": 3,
    "start_time": "2022-11-06T21:49:30.347Z"
   },
   {
    "duration": 8,
    "start_time": "2022-11-06T21:49:30.899Z"
   },
   {
    "duration": 6,
    "start_time": "2022-11-06T21:49:31.444Z"
   },
   {
    "duration": 3,
    "start_time": "2022-11-06T21:49:41.351Z"
   },
   {
    "duration": 8,
    "start_time": "2022-11-06T21:49:41.917Z"
   },
   {
    "duration": 5,
    "start_time": "2022-11-06T21:49:42.396Z"
   },
   {
    "duration": 3,
    "start_time": "2022-11-06T21:50:14.808Z"
   },
   {
    "duration": 10,
    "start_time": "2022-11-06T21:50:15.293Z"
   },
   {
    "duration": 5,
    "start_time": "2022-11-06T21:50:15.806Z"
   }
  ],
  "colab": {
   "provenance": []
  },
  "kernelspec": {
   "display_name": "Python 3 (ipykernel)",
   "language": "python",
   "name": "python3"
  },
  "language_info": {
   "codemirror_mode": {
    "name": "ipython",
    "version": 3
   },
   "file_extension": ".py",
   "mimetype": "text/x-python",
   "name": "python",
   "nbconvert_exporter": "python",
   "pygments_lexer": "ipython3",
   "version": "3.9.5"
  },
  "toc": {
   "base_numbering": 1,
   "nav_menu": {},
   "number_sections": true,
   "sideBar": true,
   "skip_h1_title": true,
   "title_cell": "Table of Contents",
   "title_sidebar": "Contents",
   "toc_cell": false,
   "toc_position": {},
   "toc_section_display": true,
   "toc_window_display": false
  }
 },
 "nbformat": 4,
 "nbformat_minor": 5
}
